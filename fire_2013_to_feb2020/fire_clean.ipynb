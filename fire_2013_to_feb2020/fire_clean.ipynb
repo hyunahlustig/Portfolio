{
 "cells": [
  {
   "cell_type": "code",
   "execution_count": 1,
   "metadata": {},
   "outputs": [
    {
     "data": {
      "application/javascript": [
       "\n",
       "            setTimeout(function() {\n",
       "                var nbb_cell_id = 1;\n",
       "                var nbb_unformatted_code = \"%load_ext nb_black\";\n",
       "                var nbb_formatted_code = \"%load_ext nb_black\";\n",
       "                var nbb_cells = Jupyter.notebook.get_cells();\n",
       "                for (var i = 0; i < nbb_cells.length; ++i) {\n",
       "                    if (nbb_cells[i].input_prompt_number == nbb_cell_id) {\n",
       "                        if (nbb_cells[i].get_text() == nbb_unformatted_code) {\n",
       "                             nbb_cells[i].set_text(nbb_formatted_code);\n",
       "                        }\n",
       "                        break;\n",
       "                    }\n",
       "                }\n",
       "            }, 500);\n",
       "            "
      ],
      "text/plain": [
       "<IPython.core.display.Javascript object>"
      ]
     },
     "metadata": {},
     "output_type": "display_data"
    }
   ],
   "source": [
    "%load_ext nb_black"
   ]
  },
  {
   "cell_type": "code",
   "execution_count": 2,
   "metadata": {},
   "outputs": [
    {
     "data": {
      "application/javascript": [
       "\n",
       "            setTimeout(function() {\n",
       "                var nbb_cell_id = 2;\n",
       "                var nbb_unformatted_code = \"import pandas as pd\\nimport numpy as np\";\n",
       "                var nbb_formatted_code = \"import pandas as pd\\nimport numpy as np\";\n",
       "                var nbb_cells = Jupyter.notebook.get_cells();\n",
       "                for (var i = 0; i < nbb_cells.length; ++i) {\n",
       "                    if (nbb_cells[i].input_prompt_number == nbb_cell_id) {\n",
       "                        if (nbb_cells[i].get_text() == nbb_unformatted_code) {\n",
       "                             nbb_cells[i].set_text(nbb_formatted_code);\n",
       "                        }\n",
       "                        break;\n",
       "                    }\n",
       "                }\n",
       "            }, 500);\n",
       "            "
      ],
      "text/plain": [
       "<IPython.core.display.Javascript object>"
      ]
     },
     "metadata": {},
     "output_type": "display_data"
    }
   ],
   "source": [
    "import pandas as pd\n",
    "import numpy as np"
   ]
  },
  {
   "cell_type": "code",
   "execution_count": 3,
   "metadata": {},
   "outputs": [
    {
     "data": {
      "application/javascript": [
       "\n",
       "            setTimeout(function() {\n",
       "                var nbb_cell_id = 3;\n",
       "                var nbb_unformatted_code = \"path = \\\"/Users/hyunahlustig/Desktop/data science projects/fire_2013_to_feb2020/fire_data.xlsx\\\"\\ndf = pd.read_excel(path)\";\n",
       "                var nbb_formatted_code = \"path = \\\"/Users/hyunahlustig/Desktop/data science projects/fire_2013_to_feb2020/fire_data.xlsx\\\"\\ndf = pd.read_excel(path)\";\n",
       "                var nbb_cells = Jupyter.notebook.get_cells();\n",
       "                for (var i = 0; i < nbb_cells.length; ++i) {\n",
       "                    if (nbb_cells[i].input_prompt_number == nbb_cell_id) {\n",
       "                        if (nbb_cells[i].get_text() == nbb_unformatted_code) {\n",
       "                             nbb_cells[i].set_text(nbb_formatted_code);\n",
       "                        }\n",
       "                        break;\n",
       "                    }\n",
       "                }\n",
       "            }, 500);\n",
       "            "
      ],
      "text/plain": [
       "<IPython.core.display.Javascript object>"
      ]
     },
     "metadata": {},
     "output_type": "display_data"
    }
   ],
   "source": [
    "path = \"/Users/hyunahlustig/Desktop/data science projects/fire_2013_to_feb2020/fire_data.xlsx\"\n",
    "df = pd.read_excel(path)"
   ]
  },
  {
   "cell_type": "code",
   "execution_count": 4,
   "metadata": {},
   "outputs": [
    {
     "data": {
      "application/javascript": [
       "\n",
       "            setTimeout(function() {\n",
       "                var nbb_cell_id = 4;\n",
       "                var nbb_unformatted_code = \"stations = \\\"/Users/hyunahlustig/Desktop/data science projects/fire_2013_to_feb2020/usfa-registry-CA.txt\\\"\\nstations_df = pd.read_csv(stations)\";\n",
       "                var nbb_formatted_code = \"stations = \\\"/Users/hyunahlustig/Desktop/data science projects/fire_2013_to_feb2020/usfa-registry-CA.txt\\\"\\nstations_df = pd.read_csv(stations)\";\n",
       "                var nbb_cells = Jupyter.notebook.get_cells();\n",
       "                for (var i = 0; i < nbb_cells.length; ++i) {\n",
       "                    if (nbb_cells[i].input_prompt_number == nbb_cell_id) {\n",
       "                        if (nbb_cells[i].get_text() == nbb_unformatted_code) {\n",
       "                             nbb_cells[i].set_text(nbb_formatted_code);\n",
       "                        }\n",
       "                        break;\n",
       "                    }\n",
       "                }\n",
       "            }, 500);\n",
       "            "
      ],
      "text/plain": [
       "<IPython.core.display.Javascript object>"
      ]
     },
     "metadata": {},
     "output_type": "display_data"
    }
   ],
   "source": [
    "stations = \"/Users/hyunahlustig/Desktop/data science projects/fire_2013_to_feb2020/usfa-registry-CA.txt\"\n",
    "stations_df = pd.read_csv(stations)"
   ]
  },
  {
   "cell_type": "code",
   "execution_count": 5,
   "metadata": {},
   "outputs": [
    {
     "data": {
      "text/plain": [
       "Index(['Fire Department \\nIdentification Number \\n(FDID)',\n",
       "       'Fire Department Name', 'Incident \\nNumber', 'Exposure\\nNumber',\n",
       "       'NFIRS IncidentType\\nCode and Description', 'Incident Name', 'Year',\n",
       "       'Start \\nDate', 'Containment \\nDate', 'County', 'Street Address',\n",
       "       'City', 'State', 'Zip', 'Cross Streets/Directions/National Grid',\n",
       "       'Latitude', 'Longitude', 'Total \\nInjuries', 'Total \\nFatalities',\n",
       "       'Estimated \\nProperty/Contents\\nLoss', 'Total Acres \\nBurned', 'Cause'],\n",
       "      dtype='object')"
      ]
     },
     "execution_count": 5,
     "metadata": {},
     "output_type": "execute_result"
    },
    {
     "data": {
      "application/javascript": [
       "\n",
       "            setTimeout(function() {\n",
       "                var nbb_cell_id = 5;\n",
       "                var nbb_unformatted_code = \"df.columns\";\n",
       "                var nbb_formatted_code = \"df.columns\";\n",
       "                var nbb_cells = Jupyter.notebook.get_cells();\n",
       "                for (var i = 0; i < nbb_cells.length; ++i) {\n",
       "                    if (nbb_cells[i].input_prompt_number == nbb_cell_id) {\n",
       "                        if (nbb_cells[i].get_text() == nbb_unformatted_code) {\n",
       "                             nbb_cells[i].set_text(nbb_formatted_code);\n",
       "                        }\n",
       "                        break;\n",
       "                    }\n",
       "                }\n",
       "            }, 500);\n",
       "            "
      ],
      "text/plain": [
       "<IPython.core.display.Javascript object>"
      ]
     },
     "metadata": {},
     "output_type": "display_data"
    }
   ],
   "source": [
    "df.columns"
   ]
  },
  {
   "cell_type": "markdown",
   "metadata": {},
   "source": [
    "## clean/simplify column names"
   ]
  },
  {
   "cell_type": "code",
   "execution_count": 6,
   "metadata": {},
   "outputs": [
    {
     "data": {
      "text/plain": [
       "Index(['fire_department_identification_number_fdid', 'fire_department_name',\n",
       "       'incident_number', 'exposure_number',\n",
       "       'nfirs_incidenttype_code_and_description', 'incident_name', 'year',\n",
       "       'start_date', 'containment_date', 'county', 'street_address', 'city',\n",
       "       'state', 'zip', 'cross_streets_directions_national_grid', 'latitude',\n",
       "       'longitude', 'total_injuries', 'total_fatalities',\n",
       "       'estimated_property_contents_loss', 'total_acres_burned', 'cause'],\n",
       "      dtype='object')"
      ]
     },
     "execution_count": 6,
     "metadata": {},
     "output_type": "execute_result"
    },
    {
     "data": {
      "application/javascript": [
       "\n",
       "            setTimeout(function() {\n",
       "                var nbb_cell_id = 6;\n",
       "                var nbb_unformatted_code = \"df.columns = (\\n    df.columns.str.strip()\\n    .str.replace(\\\" \\\", \\\"_\\\")\\n    .str.replace(\\\"\\\\\\\\n\\\", \\\"_\\\")\\n    .str.replace(\\\"(\\\", \\\"\\\")\\n    .str.replace(\\\")\\\", \\\"\\\")\\n    .str.lower()\\n    .str.replace(\\\"/\\\", \\\"_\\\")\\n    .str.replace(\\\"__\\\", \\\"_\\\")\\n)\\ndf.columns\";\n",
       "                var nbb_formatted_code = \"df.columns = (\\n    df.columns.str.strip()\\n    .str.replace(\\\" \\\", \\\"_\\\")\\n    .str.replace(\\\"\\\\\\\\n\\\", \\\"_\\\")\\n    .str.replace(\\\"(\\\", \\\"\\\")\\n    .str.replace(\\\")\\\", \\\"\\\")\\n    .str.lower()\\n    .str.replace(\\\"/\\\", \\\"_\\\")\\n    .str.replace(\\\"__\\\", \\\"_\\\")\\n)\\ndf.columns\";\n",
       "                var nbb_cells = Jupyter.notebook.get_cells();\n",
       "                for (var i = 0; i < nbb_cells.length; ++i) {\n",
       "                    if (nbb_cells[i].input_prompt_number == nbb_cell_id) {\n",
       "                        if (nbb_cells[i].get_text() == nbb_unformatted_code) {\n",
       "                             nbb_cells[i].set_text(nbb_formatted_code);\n",
       "                        }\n",
       "                        break;\n",
       "                    }\n",
       "                }\n",
       "            }, 500);\n",
       "            "
      ],
      "text/plain": [
       "<IPython.core.display.Javascript object>"
      ]
     },
     "metadata": {},
     "output_type": "display_data"
    }
   ],
   "source": [
    "df.columns = (\n",
    "    df.columns.str.strip()\n",
    "    .str.replace(\" \", \"_\")\n",
    "    .str.replace(\"\\\\n\", \"_\")\n",
    "    .str.replace(\"(\", \"\")\n",
    "    .str.replace(\")\", \"\")\n",
    "    .str.lower()\n",
    "    .str.replace(\"/\", \"_\")\n",
    "    .str.replace(\"__\", \"_\")\n",
    ")\n",
    "df.columns"
   ]
  },
  {
   "cell_type": "markdown",
   "metadata": {},
   "source": [
    "## merge dataframes "
   ]
  },
  {
   "cell_type": "code",
   "execution_count": 7,
   "metadata": {},
   "outputs": [
    {
     "data": {
      "application/javascript": [
       "\n",
       "            setTimeout(function() {\n",
       "                var nbb_cell_id = 7;\n",
       "                var nbb_unformatted_code = \"# rename merge columns to be the same, using FDID\\ndf = df.rename(columns={\\\"fire_department_identification_number_fdid\\\": \\\"FDID\\\"})\\n\\n# change dtype to be the same to merge\\ndf[\\\"FDID\\\"] = df[\\\"FDID\\\"].astype(str)\\nstations_df[\\\"FDID\\\"] = stations_df[\\\"FDID\\\"].astype(str)\";\n",
       "                var nbb_formatted_code = \"# rename merge columns to be the same, using FDID\\ndf = df.rename(columns={\\\"fire_department_identification_number_fdid\\\": \\\"FDID\\\"})\\n\\n# change dtype to be the same to merge\\ndf[\\\"FDID\\\"] = df[\\\"FDID\\\"].astype(str)\\nstations_df[\\\"FDID\\\"] = stations_df[\\\"FDID\\\"].astype(str)\";\n",
       "                var nbb_cells = Jupyter.notebook.get_cells();\n",
       "                for (var i = 0; i < nbb_cells.length; ++i) {\n",
       "                    if (nbb_cells[i].input_prompt_number == nbb_cell_id) {\n",
       "                        if (nbb_cells[i].get_text() == nbb_unformatted_code) {\n",
       "                             nbb_cells[i].set_text(nbb_formatted_code);\n",
       "                        }\n",
       "                        break;\n",
       "                    }\n",
       "                }\n",
       "            }, 500);\n",
       "            "
      ],
      "text/plain": [
       "<IPython.core.display.Javascript object>"
      ]
     },
     "metadata": {},
     "output_type": "display_data"
    }
   ],
   "source": [
    "# rename merge columns to be the same, using FDID\n",
    "df = df.rename(columns={\"fire_department_identification_number_fdid\": \"FDID\"})\n",
    "\n",
    "# change dtype to be the same to merge\n",
    "df[\"FDID\"] = df[\"FDID\"].astype(str)\n",
    "stations_df[\"FDID\"] = stations_df[\"FDID\"].astype(str)"
   ]
  },
  {
   "cell_type": "code",
   "execution_count": 8,
   "metadata": {},
   "outputs": [
    {
     "data": {
      "application/javascript": [
       "\n",
       "            setTimeout(function() {\n",
       "                var nbb_cell_id = 8;\n",
       "                var nbb_unformatted_code = \"# merge by FDID\\ndf = df.merge(stations_df, on=\\\"FDID\\\", how=\\\"left\\\")\";\n",
       "                var nbb_formatted_code = \"# merge by FDID\\ndf = df.merge(stations_df, on=\\\"FDID\\\", how=\\\"left\\\")\";\n",
       "                var nbb_cells = Jupyter.notebook.get_cells();\n",
       "                for (var i = 0; i < nbb_cells.length; ++i) {\n",
       "                    if (nbb_cells[i].input_prompt_number == nbb_cell_id) {\n",
       "                        if (nbb_cells[i].get_text() == nbb_unformatted_code) {\n",
       "                             nbb_cells[i].set_text(nbb_formatted_code);\n",
       "                        }\n",
       "                        break;\n",
       "                    }\n",
       "                }\n",
       "            }, 500);\n",
       "            "
      ],
      "text/plain": [
       "<IPython.core.display.Javascript object>"
      ]
     },
     "metadata": {},
     "output_type": "display_data"
    }
   ],
   "source": [
    "# merge by FDID\n",
    "df = df.merge(stations_df, on=\"FDID\", how=\"left\")"
   ]
  },
  {
   "cell_type": "code",
   "execution_count": 9,
   "metadata": {},
   "outputs": [
    {
     "data": {
      "text/html": [
       "<div>\n",
       "<style scoped>\n",
       "    .dataframe tbody tr th:only-of-type {\n",
       "        vertical-align: middle;\n",
       "    }\n",
       "\n",
       "    .dataframe tbody tr th {\n",
       "        vertical-align: top;\n",
       "    }\n",
       "\n",
       "    .dataframe thead th {\n",
       "        text-align: right;\n",
       "    }\n",
       "</style>\n",
       "<table border=\"1\" class=\"dataframe\">\n",
       "  <thead>\n",
       "    <tr style=\"text-align: right;\">\n",
       "      <th></th>\n",
       "      <th>fire_department_name</th>\n",
       "      <th>incident_number</th>\n",
       "      <th>exposure_number</th>\n",
       "      <th>nfirs_incidenttype_code_and_description</th>\n",
       "      <th>incident_name</th>\n",
       "      <th>year</th>\n",
       "      <th>start_date</th>\n",
       "      <th>containment_date</th>\n",
       "      <th>county</th>\n",
       "      <th>street_address</th>\n",
       "      <th>...</th>\n",
       "      <th>Dept Type</th>\n",
       "      <th>Organization Type</th>\n",
       "      <th>Website</th>\n",
       "      <th>Number Of Stations</th>\n",
       "      <th>Active Firefighters - Career</th>\n",
       "      <th>Active Firefighters - Volunteer</th>\n",
       "      <th>Active Firefighters - Paid per Call</th>\n",
       "      <th>Non-Firefighting - Civilian</th>\n",
       "      <th>Non-Firefighting - Volunteer</th>\n",
       "      <th>Primary agency for emergency mgmt</th>\n",
       "    </tr>\n",
       "    <tr>\n",
       "      <th>FDID</th>\n",
       "      <th></th>\n",
       "      <th></th>\n",
       "      <th></th>\n",
       "      <th></th>\n",
       "      <th></th>\n",
       "      <th></th>\n",
       "      <th></th>\n",
       "      <th></th>\n",
       "      <th></th>\n",
       "      <th></th>\n",
       "      <th></th>\n",
       "      <th></th>\n",
       "      <th></th>\n",
       "      <th></th>\n",
       "      <th></th>\n",
       "      <th></th>\n",
       "      <th></th>\n",
       "      <th></th>\n",
       "      <th></th>\n",
       "      <th></th>\n",
       "      <th></th>\n",
       "    </tr>\n",
       "  </thead>\n",
       "  <tbody>\n",
       "    <tr>\n",
       "      <th>33090</th>\n",
       "      <td>RIVERSIDE CFD</td>\n",
       "      <td>16</td>\n",
       "      <td>0</td>\n",
       "      <td>561 Unauthorized burning</td>\n",
       "      <td>CASTLEROCK TRL  MEAD</td>\n",
       "      <td>2013</td>\n",
       "      <td>2013-01-01</td>\n",
       "      <td>2013-01-01 00:27:00</td>\n",
       "      <td>Riverside</td>\n",
       "      <td>00019275  CASTLEROCK TRL</td>\n",
       "      <td>...</td>\n",
       "      <td>Mostly career</td>\n",
       "      <td>NaN</td>\n",
       "      <td>https://www.rvcfire.org/</td>\n",
       "      <td>101.0</td>\n",
       "      <td>1300.0</td>\n",
       "      <td>0.0</td>\n",
       "      <td>50.0</td>\n",
       "      <td>100.0</td>\n",
       "      <td>8.0</td>\n",
       "      <td>Yes</td>\n",
       "    </tr>\n",
       "    <tr>\n",
       "      <th>33090</th>\n",
       "      <td>RIVERSIDE CFD</td>\n",
       "      <td>312</td>\n",
       "      <td>0</td>\n",
       "      <td>142 Brush, or brush and grass mixture fire</td>\n",
       "      <td>DATE PALM</td>\n",
       "      <td>2013</td>\n",
       "      <td>2013-01-01</td>\n",
       "      <td>2013-01-01 19:03:00</td>\n",
       "      <td>Riverside</td>\n",
       "      <td>00065150  DATE PALM ST</td>\n",
       "      <td>...</td>\n",
       "      <td>Mostly career</td>\n",
       "      <td>NaN</td>\n",
       "      <td>https://www.rvcfire.org/</td>\n",
       "      <td>101.0</td>\n",
       "      <td>1300.0</td>\n",
       "      <td>0.0</td>\n",
       "      <td>50.0</td>\n",
       "      <td>100.0</td>\n",
       "      <td>8.0</td>\n",
       "      <td>Yes</td>\n",
       "    </tr>\n",
       "    <tr>\n",
       "      <th>30065</th>\n",
       "      <td>ORANGE COUNTY FIRE AUTHORITY</td>\n",
       "      <td>0000005</td>\n",
       "      <td>0</td>\n",
       "      <td>173 Cultivated trees or nursery stock fire</td>\n",
       "      <td>NaN</td>\n",
       "      <td>2013</td>\n",
       "      <td>2013-01-01</td>\n",
       "      <td>NaN</td>\n",
       "      <td>Orange</td>\n",
       "      <td>8592  PALM</td>\n",
       "      <td>...</td>\n",
       "      <td>Mostly career</td>\n",
       "      <td>NaN</td>\n",
       "      <td>https://www.ocfa.org/</td>\n",
       "      <td>79.0</td>\n",
       "      <td>1152.0</td>\n",
       "      <td>171.0</td>\n",
       "      <td>0.0</td>\n",
       "      <td>330.0</td>\n",
       "      <td>1.0</td>\n",
       "      <td>No</td>\n",
       "    </tr>\n",
       "    <tr>\n",
       "      <th>19105</th>\n",
       "      <td>LOS ANGELES CITY FD</td>\n",
       "      <td>52</td>\n",
       "      <td>0</td>\n",
       "      <td>173 Cultivated trees or nursery stock fire</td>\n",
       "      <td>NaN</td>\n",
       "      <td>2013</td>\n",
       "      <td>2013-01-01</td>\n",
       "      <td>NaN</td>\n",
       "      <td>Los Angeles</td>\n",
       "      <td>15077 W PADDOCK ST</td>\n",
       "      <td>...</td>\n",
       "      <td>Career</td>\n",
       "      <td>NaN</td>\n",
       "      <td>https://www.lafd.org</td>\n",
       "      <td>106.0</td>\n",
       "      <td>3346.0</td>\n",
       "      <td>0.0</td>\n",
       "      <td>0.0</td>\n",
       "      <td>334.0</td>\n",
       "      <td>0.0</td>\n",
       "      <td>NaN</td>\n",
       "    </tr>\n",
       "    <tr>\n",
       "      <th>19105</th>\n",
       "      <td>LOS ANGELES CITY FD</td>\n",
       "      <td>1384</td>\n",
       "      <td>0</td>\n",
       "      <td>173 Cultivated trees or nursery stock fire</td>\n",
       "      <td>NaN</td>\n",
       "      <td>2013</td>\n",
       "      <td>2013-01-01</td>\n",
       "      <td>NaN</td>\n",
       "      <td>Los Angeles</td>\n",
       "      <td>260 E 71ST ST X S SAN PEDRO ST</td>\n",
       "      <td>...</td>\n",
       "      <td>Career</td>\n",
       "      <td>NaN</td>\n",
       "      <td>https://www.lafd.org</td>\n",
       "      <td>106.0</td>\n",
       "      <td>3346.0</td>\n",
       "      <td>0.0</td>\n",
       "      <td>0.0</td>\n",
       "      <td>334.0</td>\n",
       "      <td>0.0</td>\n",
       "      <td>NaN</td>\n",
       "    </tr>\n",
       "    <tr>\n",
       "      <th>...</th>\n",
       "      <td>...</td>\n",
       "      <td>...</td>\n",
       "      <td>...</td>\n",
       "      <td>...</td>\n",
       "      <td>...</td>\n",
       "      <td>...</td>\n",
       "      <td>...</td>\n",
       "      <td>...</td>\n",
       "      <td>...</td>\n",
       "      <td>...</td>\n",
       "      <td>...</td>\n",
       "      <td>...</td>\n",
       "      <td>...</td>\n",
       "      <td>...</td>\n",
       "      <td>...</td>\n",
       "      <td>...</td>\n",
       "      <td>...</td>\n",
       "      <td>...</td>\n",
       "      <td>...</td>\n",
       "      <td>...</td>\n",
       "      <td>...</td>\n",
       "    </tr>\n",
       "    <tr>\n",
       "      <th>43045</th>\n",
       "      <td>SO SANTA CLARA CNTY FIRE DIST</td>\n",
       "      <td>0001230</td>\n",
       "      <td>0</td>\n",
       "      <td>142 Brush, or brush and grass mixture fire</td>\n",
       "      <td>HIGHLAND 2</td>\n",
       "      <td>2020</td>\n",
       "      <td>2020-02-17</td>\n",
       "      <td>2020-02-17 17:49:00</td>\n",
       "      <td>Santa Clara</td>\n",
       "      <td>COX AVENUE</td>\n",
       "      <td>...</td>\n",
       "      <td>Mostly career</td>\n",
       "      <td>NaN</td>\n",
       "      <td>https://www.ssccfd.com/</td>\n",
       "      <td>3.0</td>\n",
       "      <td>24.0</td>\n",
       "      <td>0.0</td>\n",
       "      <td>15.0</td>\n",
       "      <td>6.0</td>\n",
       "      <td>0.0</td>\n",
       "      <td>No</td>\n",
       "    </tr>\n",
       "    <tr>\n",
       "      <th>20010</th>\n",
       "      <td>MADERA FD</td>\n",
       "      <td>0003690</td>\n",
       "      <td>0</td>\n",
       "      <td>561 Unauthorized burning</td>\n",
       "      <td>RAYMOND RD / TOLEDO WY</td>\n",
       "      <td>2020</td>\n",
       "      <td>2020-02-17</td>\n",
       "      <td>2020-02-17 14:15:39</td>\n",
       "      <td>Madera</td>\n",
       "      <td>RAYMOND RD</td>\n",
       "      <td>...</td>\n",
       "      <td>Career</td>\n",
       "      <td>NaN</td>\n",
       "      <td>https://www.cityofmadera.org/web/guest/fire</td>\n",
       "      <td>2.0</td>\n",
       "      <td>17.0</td>\n",
       "      <td>0.0</td>\n",
       "      <td>0.0</td>\n",
       "      <td>2.0</td>\n",
       "      <td>0.0</td>\n",
       "      <td>No</td>\n",
       "    </tr>\n",
       "    <tr>\n",
       "      <th>20010</th>\n",
       "      <td>MADERA FD</td>\n",
       "      <td>0003687</td>\n",
       "      <td>0</td>\n",
       "      <td>561 Unauthorized burning</td>\n",
       "      <td>GATEWAY</td>\n",
       "      <td>2020</td>\n",
       "      <td>2020-02-17</td>\n",
       "      <td>2020-02-17 13:39:40</td>\n",
       "      <td>Madera</td>\n",
       "      <td>Central Ave.</td>\n",
       "      <td>...</td>\n",
       "      <td>Career</td>\n",
       "      <td>NaN</td>\n",
       "      <td>https://www.cityofmadera.org/web/guest/fire</td>\n",
       "      <td>2.0</td>\n",
       "      <td>17.0</td>\n",
       "      <td>0.0</td>\n",
       "      <td>0.0</td>\n",
       "      <td>2.0</td>\n",
       "      <td>0.0</td>\n",
       "      <td>No</td>\n",
       "    </tr>\n",
       "    <tr>\n",
       "      <th>20010</th>\n",
       "      <td>MADERA FD</td>\n",
       "      <td>0003739</td>\n",
       "      <td>0</td>\n",
       "      <td>561 Unauthorized burning</td>\n",
       "      <td>HWY 99  S/ 4TH ST OFF RAM</td>\n",
       "      <td>2020</td>\n",
       "      <td>2020-02-18</td>\n",
       "      <td>2020-02-18 06:59:26</td>\n",
       "      <td>Madera</td>\n",
       "      <td>Lillian St.</td>\n",
       "      <td>...</td>\n",
       "      <td>Career</td>\n",
       "      <td>NaN</td>\n",
       "      <td>https://www.cityofmadera.org/web/guest/fire</td>\n",
       "      <td>2.0</td>\n",
       "      <td>17.0</td>\n",
       "      <td>0.0</td>\n",
       "      <td>0.0</td>\n",
       "      <td>2.0</td>\n",
       "      <td>0.0</td>\n",
       "      <td>No</td>\n",
       "    </tr>\n",
       "    <tr>\n",
       "      <th>10032</th>\n",
       "      <td>FRESNO COUNTY FPD</td>\n",
       "      <td>0002569</td>\n",
       "      <td>0</td>\n",
       "      <td>142 Brush, or brush and grass mixture fire</td>\n",
       "      <td>S LASSEN AVE /W KAMM AVE</td>\n",
       "      <td>2020</td>\n",
       "      <td>2020-02-22</td>\n",
       "      <td>2020-02-22 20:52:35</td>\n",
       "      <td>Fresno</td>\n",
       "      <td>17307 W KAMM AVE</td>\n",
       "      <td>...</td>\n",
       "      <td>Mostly career</td>\n",
       "      <td>NaN</td>\n",
       "      <td>https://fresnocountyfire.org/</td>\n",
       "      <td>18.0</td>\n",
       "      <td>100.0</td>\n",
       "      <td>0.0</td>\n",
       "      <td>43.0</td>\n",
       "      <td>10.0</td>\n",
       "      <td>0.0</td>\n",
       "      <td>Yes</td>\n",
       "    </tr>\n",
       "  </tbody>\n",
       "</table>\n",
       "<p>134678 rows × 46 columns</p>\n",
       "</div>"
      ],
      "text/plain": [
       "                fire_department_name incident_number  exposure_number  \\\n",
       "FDID                                                                    \n",
       "33090                  RIVERSIDE CFD              16                0   \n",
       "33090                  RIVERSIDE CFD             312                0   \n",
       "30065   ORANGE COUNTY FIRE AUTHORITY         0000005                0   \n",
       "19105            LOS ANGELES CITY FD              52                0   \n",
       "19105            LOS ANGELES CITY FD            1384                0   \n",
       "...                              ...             ...              ...   \n",
       "43045  SO SANTA CLARA CNTY FIRE DIST         0001230                0   \n",
       "20010                      MADERA FD         0003690                0   \n",
       "20010                      MADERA FD         0003687                0   \n",
       "20010                      MADERA FD         0003739                0   \n",
       "10032              FRESNO COUNTY FPD         0002569                0   \n",
       "\n",
       "          nfirs_incidenttype_code_and_description              incident_name  \\\n",
       "FDID                                                                           \n",
       "33090                    561 Unauthorized burning       CASTLEROCK TRL  MEAD   \n",
       "33090  142 Brush, or brush and grass mixture fire                  DATE PALM   \n",
       "30065  173 Cultivated trees or nursery stock fire                        NaN   \n",
       "19105  173 Cultivated trees or nursery stock fire                        NaN   \n",
       "19105  173 Cultivated trees or nursery stock fire                        NaN   \n",
       "...                                           ...                        ...   \n",
       "43045  142 Brush, or brush and grass mixture fire                 HIGHLAND 2   \n",
       "20010                    561 Unauthorized burning     RAYMOND RD / TOLEDO WY   \n",
       "20010                    561 Unauthorized burning                    GATEWAY   \n",
       "20010                    561 Unauthorized burning  HWY 99  S/ 4TH ST OFF RAM   \n",
       "10032  142 Brush, or brush and grass mixture fire   S LASSEN AVE /W KAMM AVE   \n",
       "\n",
       "       year start_date     containment_date       county  \\\n",
       "FDID                                                       \n",
       "33090  2013 2013-01-01  2013-01-01 00:27:00    Riverside   \n",
       "33090  2013 2013-01-01  2013-01-01 19:03:00    Riverside   \n",
       "30065  2013 2013-01-01                  NaN       Orange   \n",
       "19105  2013 2013-01-01                  NaN  Los Angeles   \n",
       "19105  2013 2013-01-01                  NaN  Los Angeles   \n",
       "...     ...        ...                  ...          ...   \n",
       "43045  2020 2020-02-17  2020-02-17 17:49:00  Santa Clara   \n",
       "20010  2020 2020-02-17  2020-02-17 14:15:39       Madera   \n",
       "20010  2020 2020-02-17  2020-02-17 13:39:40       Madera   \n",
       "20010  2020 2020-02-18  2020-02-18 06:59:26       Madera   \n",
       "10032  2020 2020-02-22  2020-02-22 20:52:35       Fresno   \n",
       "\n",
       "                           street_address  ...      Dept Type  \\\n",
       "FDID                                       ...                  \n",
       "33090           00019275  CASTLEROCK TRL   ...  Mostly career   \n",
       "33090             00065150  DATE PALM ST   ...  Mostly career   \n",
       "30065                        8592  PALM    ...  Mostly career   \n",
       "19105                 15077 W PADDOCK ST   ...         Career   \n",
       "19105    260 E 71ST ST X S SAN PEDRO ST    ...         Career   \n",
       "...                                   ...  ...            ...   \n",
       "43045                        COX AVENUE    ...  Mostly career   \n",
       "20010                        RAYMOND RD    ...         Career   \n",
       "20010                      Central Ave.    ...         Career   \n",
       "20010                       Lillian St.    ...         Career   \n",
       "10032                   17307 W KAMM AVE   ...  Mostly career   \n",
       "\n",
       "      Organization Type                                      Website  \\\n",
       "FDID                                                                   \n",
       "33090               NaN                     https://www.rvcfire.org/   \n",
       "33090               NaN                     https://www.rvcfire.org/   \n",
       "30065               NaN                        https://www.ocfa.org/   \n",
       "19105               NaN                         https://www.lafd.org   \n",
       "19105               NaN                         https://www.lafd.org   \n",
       "...                 ...                                          ...   \n",
       "43045               NaN                      https://www.ssccfd.com/   \n",
       "20010               NaN  https://www.cityofmadera.org/web/guest/fire   \n",
       "20010               NaN  https://www.cityofmadera.org/web/guest/fire   \n",
       "20010               NaN  https://www.cityofmadera.org/web/guest/fire   \n",
       "10032               NaN                https://fresnocountyfire.org/   \n",
       "\n",
       "      Number Of Stations  Active Firefighters - Career  \\\n",
       "FDID                                                     \n",
       "33090              101.0                        1300.0   \n",
       "33090              101.0                        1300.0   \n",
       "30065               79.0                        1152.0   \n",
       "19105              106.0                        3346.0   \n",
       "19105              106.0                        3346.0   \n",
       "...                  ...                           ...   \n",
       "43045                3.0                          24.0   \n",
       "20010                2.0                          17.0   \n",
       "20010                2.0                          17.0   \n",
       "20010                2.0                          17.0   \n",
       "10032               18.0                         100.0   \n",
       "\n",
       "       Active Firefighters - Volunteer  Active Firefighters - Paid per Call  \\\n",
       "FDID                                                                          \n",
       "33090                              0.0                                 50.0   \n",
       "33090                              0.0                                 50.0   \n",
       "30065                            171.0                                  0.0   \n",
       "19105                              0.0                                  0.0   \n",
       "19105                              0.0                                  0.0   \n",
       "...                                ...                                  ...   \n",
       "43045                              0.0                                 15.0   \n",
       "20010                              0.0                                  0.0   \n",
       "20010                              0.0                                  0.0   \n",
       "20010                              0.0                                  0.0   \n",
       "10032                              0.0                                 43.0   \n",
       "\n",
       "       Non-Firefighting - Civilian  Non-Firefighting - Volunteer  \\\n",
       "FDID                                                               \n",
       "33090                        100.0                           8.0   \n",
       "33090                        100.0                           8.0   \n",
       "30065                        330.0                           1.0   \n",
       "19105                        334.0                           0.0   \n",
       "19105                        334.0                           0.0   \n",
       "...                            ...                           ...   \n",
       "43045                          6.0                           0.0   \n",
       "20010                          2.0                           0.0   \n",
       "20010                          2.0                           0.0   \n",
       "20010                          2.0                           0.0   \n",
       "10032                         10.0                           0.0   \n",
       "\n",
       "       Primary agency for emergency mgmt  \n",
       "FDID                                      \n",
       "33090                                Yes  \n",
       "33090                                Yes  \n",
       "30065                                 No  \n",
       "19105                                NaN  \n",
       "19105                                NaN  \n",
       "...                                  ...  \n",
       "43045                                 No  \n",
       "20010                                 No  \n",
       "20010                                 No  \n",
       "20010                                 No  \n",
       "10032                                Yes  \n",
       "\n",
       "[134678 rows x 46 columns]"
      ]
     },
     "execution_count": 9,
     "metadata": {},
     "output_type": "execute_result"
    },
    {
     "data": {
      "application/javascript": [
       "\n",
       "            setTimeout(function() {\n",
       "                var nbb_cell_id = 9;\n",
       "                var nbb_unformatted_code = \"# set FDID as index\\ndf.set_index(\\\"FDID\\\")\";\n",
       "                var nbb_formatted_code = \"# set FDID as index\\ndf.set_index(\\\"FDID\\\")\";\n",
       "                var nbb_cells = Jupyter.notebook.get_cells();\n",
       "                for (var i = 0; i < nbb_cells.length; ++i) {\n",
       "                    if (nbb_cells[i].input_prompt_number == nbb_cell_id) {\n",
       "                        if (nbb_cells[i].get_text() == nbb_unformatted_code) {\n",
       "                             nbb_cells[i].set_text(nbb_formatted_code);\n",
       "                        }\n",
       "                        break;\n",
       "                    }\n",
       "                }\n",
       "            }, 500);\n",
       "            "
      ],
      "text/plain": [
       "<IPython.core.display.Javascript object>"
      ]
     },
     "metadata": {},
     "output_type": "display_data"
    }
   ],
   "source": [
    "# set FDID as index\n",
    "df.set_index(\"FDID\")"
   ]
  },
  {
   "cell_type": "code",
   "execution_count": 10,
   "metadata": {},
   "outputs": [
    {
     "data": {
      "text/plain": [
       "Index(['FDID', 'fire_department_name', 'incident_number', 'exposure_number',\n",
       "       'nfirs_incidenttype_code_and_description', 'incident_name', 'year',\n",
       "       'start_date', 'containment_date', 'county', 'street_address', 'city',\n",
       "       'state', 'zip', 'cross_streets_directions_national_grid', 'latitude',\n",
       "       'longitude', 'total_injuries', 'total_fatalities',\n",
       "       'estimated_property_contents_loss', 'total_acres_burned', 'cause',\n",
       "       'Fire dept name', 'HQ addr1', 'HQ addr2', 'HQ city', 'HQ state',\n",
       "       'HQ zip', 'Mail addr1', 'Mail addr2', 'Mail PO box', 'Mail city',\n",
       "       'Mail state', 'Mail zip', 'HQ phone', 'HQ fax', 'County', 'Dept Type',\n",
       "       'Organization Type', 'Website', 'Number Of Stations',\n",
       "       'Active Firefighters - Career', 'Active Firefighters - Volunteer',\n",
       "       'Active Firefighters - Paid per Call', 'Non-Firefighting - Civilian',\n",
       "       'Non-Firefighting - Volunteer', 'Primary agency for emergency mgmt'],\n",
       "      dtype='object')"
      ]
     },
     "execution_count": 10,
     "metadata": {},
     "output_type": "execute_result"
    },
    {
     "data": {
      "application/javascript": [
       "\n",
       "            setTimeout(function() {\n",
       "                var nbb_cell_id = 10;\n",
       "                var nbb_unformatted_code = \"df.columns\";\n",
       "                var nbb_formatted_code = \"df.columns\";\n",
       "                var nbb_cells = Jupyter.notebook.get_cells();\n",
       "                for (var i = 0; i < nbb_cells.length; ++i) {\n",
       "                    if (nbb_cells[i].input_prompt_number == nbb_cell_id) {\n",
       "                        if (nbb_cells[i].get_text() == nbb_unformatted_code) {\n",
       "                             nbb_cells[i].set_text(nbb_formatted_code);\n",
       "                        }\n",
       "                        break;\n",
       "                    }\n",
       "                }\n",
       "            }, 500);\n",
       "            "
      ],
      "text/plain": [
       "<IPython.core.display.Javascript object>"
      ]
     },
     "metadata": {},
     "output_type": "display_data"
    }
   ],
   "source": [
    "df.columns"
   ]
  },
  {
   "cell_type": "markdown",
   "metadata": {},
   "source": [
    "## clean new dataframe"
   ]
  },
  {
   "cell_type": "code",
   "execution_count": 11,
   "metadata": {},
   "outputs": [
    {
     "data": {
      "application/javascript": [
       "\n",
       "            setTimeout(function() {\n",
       "                var nbb_cell_id = 11;\n",
       "                var nbb_unformatted_code = \"# delete columns we don't need including unwanted identifier columns to a second version (a copy)\\nnew_df = df.copy()\\n\\ndel_columns = [\\n    \\\"fire_department_name\\\",  # don't need\\n    \\\"incident_number\\\",  # don't need\\n    \\\"exposure_number\\\",  # original data dictionary says inconsistent\\n    \\\"incident_name\\\",  # unnecessary\\n    \\\"cross_streets_directions_national_grid\\\",  # already have long/lat info\\n    \\\"Fire dept name\\\",  # don't need\\n    \\\"Mail addr1\\\",  # only need HQ address\\n    \\\"Mail addr2\\\",  # only need HQ address\\n    \\\"Mail PO box\\\",  # only need HQ address\\n    \\\"Mail city\\\",  # only need HQ address\\n    \\\"Mail state\\\",  # only need HQ address\\n    \\\"Mail zip\\\",  # only need HQ address\\n    \\\"HQ phone\\\",  # only need HQ address\\n    \\\"HQ fax\\\",  # only need HQ address\\n    \\\"County\\\",  # in original df\\n    \\\"Dept Type\\\",  # don't need\\n    \\\"Organization Type\\\",  # don't need\\n    \\\"Website\\\",  # don't need\\n    \\\"Number Of Stations\\\",  # don't need\\n    \\\"Active Firefighters - Career\\\",  # don't need\\n    \\\"Active Firefighters - Volunteer\\\",  # don't need\\n    \\\"Active Firefighters - Paid per Call\\\",  # don't need\\n    \\\"Non-Firefighting - Civilian\\\",  # don't need\\n    \\\"Non-Firefighting - Volunteer\\\",  # don't need\\n    \\\"Primary agency for emergency mgmt\\\",  # don't need\\n]\\n\\nnew_df = new_df.drop(columns=del_columns)\";\n",
       "                var nbb_formatted_code = \"# delete columns we don't need including unwanted identifier columns to a second version (a copy)\\nnew_df = df.copy()\\n\\ndel_columns = [\\n    \\\"fire_department_name\\\",  # don't need\\n    \\\"incident_number\\\",  # don't need\\n    \\\"exposure_number\\\",  # original data dictionary says inconsistent\\n    \\\"incident_name\\\",  # unnecessary\\n    \\\"cross_streets_directions_national_grid\\\",  # already have long/lat info\\n    \\\"Fire dept name\\\",  # don't need\\n    \\\"Mail addr1\\\",  # only need HQ address\\n    \\\"Mail addr2\\\",  # only need HQ address\\n    \\\"Mail PO box\\\",  # only need HQ address\\n    \\\"Mail city\\\",  # only need HQ address\\n    \\\"Mail state\\\",  # only need HQ address\\n    \\\"Mail zip\\\",  # only need HQ address\\n    \\\"HQ phone\\\",  # only need HQ address\\n    \\\"HQ fax\\\",  # only need HQ address\\n    \\\"County\\\",  # in original df\\n    \\\"Dept Type\\\",  # don't need\\n    \\\"Organization Type\\\",  # don't need\\n    \\\"Website\\\",  # don't need\\n    \\\"Number Of Stations\\\",  # don't need\\n    \\\"Active Firefighters - Career\\\",  # don't need\\n    \\\"Active Firefighters - Volunteer\\\",  # don't need\\n    \\\"Active Firefighters - Paid per Call\\\",  # don't need\\n    \\\"Non-Firefighting - Civilian\\\",  # don't need\\n    \\\"Non-Firefighting - Volunteer\\\",  # don't need\\n    \\\"Primary agency for emergency mgmt\\\",  # don't need\\n]\\n\\nnew_df = new_df.drop(columns=del_columns)\";\n",
       "                var nbb_cells = Jupyter.notebook.get_cells();\n",
       "                for (var i = 0; i < nbb_cells.length; ++i) {\n",
       "                    if (nbb_cells[i].input_prompt_number == nbb_cell_id) {\n",
       "                        if (nbb_cells[i].get_text() == nbb_unformatted_code) {\n",
       "                             nbb_cells[i].set_text(nbb_formatted_code);\n",
       "                        }\n",
       "                        break;\n",
       "                    }\n",
       "                }\n",
       "            }, 500);\n",
       "            "
      ],
      "text/plain": [
       "<IPython.core.display.Javascript object>"
      ]
     },
     "metadata": {},
     "output_type": "display_data"
    }
   ],
   "source": [
    "# delete columns we don't need including unwanted identifier columns to a second version (a copy)\n",
    "new_df = df.copy()\n",
    "\n",
    "del_columns = [\n",
    "    \"fire_department_name\",  # don't need\n",
    "    \"incident_number\",  # don't need\n",
    "    \"exposure_number\",  # original data dictionary says inconsistent\n",
    "    \"incident_name\",  # unnecessary\n",
    "    \"cross_streets_directions_national_grid\",  # already have long/lat info\n",
    "    \"Fire dept name\",  # don't need\n",
    "    \"Mail addr1\",  # only need HQ address\n",
    "    \"Mail addr2\",  # only need HQ address\n",
    "    \"Mail PO box\",  # only need HQ address\n",
    "    \"Mail city\",  # only need HQ address\n",
    "    \"Mail state\",  # only need HQ address\n",
    "    \"Mail zip\",  # only need HQ address\n",
    "    \"HQ phone\",  # only need HQ address\n",
    "    \"HQ fax\",  # only need HQ address\n",
    "    \"County\",  # in original df\n",
    "    \"Dept Type\",  # don't need\n",
    "    \"Organization Type\",  # don't need\n",
    "    \"Website\",  # don't need\n",
    "    \"Number Of Stations\",  # don't need\n",
    "    \"Active Firefighters - Career\",  # don't need\n",
    "    \"Active Firefighters - Volunteer\",  # don't need\n",
    "    \"Active Firefighters - Paid per Call\",  # don't need\n",
    "    \"Non-Firefighting - Civilian\",  # don't need\n",
    "    \"Non-Firefighting - Volunteer\",  # don't need\n",
    "    \"Primary agency for emergency mgmt\",  # don't need\n",
    "]\n",
    "\n",
    "new_df = new_df.drop(columns=del_columns)"
   ]
  },
  {
   "cell_type": "code",
   "execution_count": 12,
   "metadata": {},
   "outputs": [
    {
     "data": {
      "text/plain": [
       "FDID                                       0.000000\n",
       "nfirs_incidenttype_code_and_description    0.000000\n",
       "year                                       0.000000\n",
       "start_date                                 0.000000\n",
       "containment_date                           0.629850\n",
       "county                                     0.000000\n",
       "street_address                             0.000000\n",
       "city                                       0.003126\n",
       "state                                      0.002354\n",
       "zip                                        0.003215\n",
       "latitude                                   0.000000\n",
       "longitude                                  0.000000\n",
       "total_injuries                             0.000000\n",
       "total_fatalities                           0.000000\n",
       "estimated_property_contents_loss           0.000000\n",
       "total_acres_burned                         0.000000\n",
       "cause                                      0.000000\n",
       "HQ addr1                                   0.208289\n",
       "HQ addr2                                   0.977368\n",
       "HQ city                                    0.208289\n",
       "HQ state                                   0.208289\n",
       "HQ zip                                     0.208289\n",
       "dtype: float64"
      ]
     },
     "execution_count": 12,
     "metadata": {},
     "output_type": "execute_result"
    },
    {
     "data": {
      "application/javascript": [
       "\n",
       "            setTimeout(function() {\n",
       "                var nbb_cell_id = 12;\n",
       "                var nbb_unformatted_code = \"new_df.isna().mean()\";\n",
       "                var nbb_formatted_code = \"new_df.isna().mean()\";\n",
       "                var nbb_cells = Jupyter.notebook.get_cells();\n",
       "                for (var i = 0; i < nbb_cells.length; ++i) {\n",
       "                    if (nbb_cells[i].input_prompt_number == nbb_cell_id) {\n",
       "                        if (nbb_cells[i].get_text() == nbb_unformatted_code) {\n",
       "                             nbb_cells[i].set_text(nbb_formatted_code);\n",
       "                        }\n",
       "                        break;\n",
       "                    }\n",
       "                }\n",
       "            }, 500);\n",
       "            "
      ],
      "text/plain": [
       "<IPython.core.display.Javascript object>"
      ]
     },
     "metadata": {},
     "output_type": "display_data"
    }
   ],
   "source": [
    "new_df.isna().mean()"
   ]
  },
  {
   "cell_type": "code",
   "execution_count": 13,
   "metadata": {},
   "outputs": [
    {
     "data": {
      "application/javascript": [
       "\n",
       "            setTimeout(function() {\n",
       "                var nbb_cell_id = 13;\n",
       "                var nbb_unformatted_code = \"# per original cleaning, missing containment_date is due to less than a day fires, fill them with start date\\nnew_df[\\\"containment_date\\\"] = pd.to_datetime(\\n    new_df[\\\"containment_date\\\"], errors=\\\"coerce\\\"\\n).fillna(new_df[\\\"start_date\\\"])\\nnew_df[\\\"containment_date\\\"].fillna(new_df[\\\"start_date\\\"], inplace=True)\";\n",
       "                var nbb_formatted_code = \"# per original cleaning, missing containment_date is due to less than a day fires, fill them with start date\\nnew_df[\\\"containment_date\\\"] = pd.to_datetime(\\n    new_df[\\\"containment_date\\\"], errors=\\\"coerce\\\"\\n).fillna(new_df[\\\"start_date\\\"])\\nnew_df[\\\"containment_date\\\"].fillna(new_df[\\\"start_date\\\"], inplace=True)\";\n",
       "                var nbb_cells = Jupyter.notebook.get_cells();\n",
       "                for (var i = 0; i < nbb_cells.length; ++i) {\n",
       "                    if (nbb_cells[i].input_prompt_number == nbb_cell_id) {\n",
       "                        if (nbb_cells[i].get_text() == nbb_unformatted_code) {\n",
       "                             nbb_cells[i].set_text(nbb_formatted_code);\n",
       "                        }\n",
       "                        break;\n",
       "                    }\n",
       "                }\n",
       "            }, 500);\n",
       "            "
      ],
      "text/plain": [
       "<IPython.core.display.Javascript object>"
      ]
     },
     "metadata": {},
     "output_type": "display_data"
    }
   ],
   "source": [
    "# per original cleaning, missing containment_date is due to less than a day fires, fill them with start date\n",
    "new_df[\"containment_date\"] = pd.to_datetime(\n",
    "    new_df[\"containment_date\"], errors=\"coerce\"\n",
    ").fillna(new_df[\"start_date\"])\n",
    "new_df[\"containment_date\"].fillna(new_df[\"start_date\"], inplace=True)"
   ]
  },
  {
   "cell_type": "code",
   "execution_count": 14,
   "metadata": {},
   "outputs": [
    {
     "data": {
      "text/html": [
       "<div>\n",
       "<style scoped>\n",
       "    .dataframe tbody tr th:only-of-type {\n",
       "        vertical-align: middle;\n",
       "    }\n",
       "\n",
       "    .dataframe tbody tr th {\n",
       "        vertical-align: top;\n",
       "    }\n",
       "\n",
       "    .dataframe thead th {\n",
       "        text-align: right;\n",
       "    }\n",
       "</style>\n",
       "<table border=\"1\" class=\"dataframe\">\n",
       "  <thead>\n",
       "    <tr style=\"text-align: right;\">\n",
       "      <th></th>\n",
       "      <th>FDID</th>\n",
       "      <th>nfirs_incidenttype_code_and_description</th>\n",
       "      <th>year</th>\n",
       "      <th>start_date</th>\n",
       "      <th>containment_date</th>\n",
       "      <th>county</th>\n",
       "      <th>street_address</th>\n",
       "      <th>city</th>\n",
       "      <th>state</th>\n",
       "      <th>zip</th>\n",
       "      <th>...</th>\n",
       "      <th>total_injuries</th>\n",
       "      <th>total_fatalities</th>\n",
       "      <th>estimated_property_contents_loss</th>\n",
       "      <th>total_acres_burned</th>\n",
       "      <th>cause</th>\n",
       "      <th>HQ addr1</th>\n",
       "      <th>HQ addr2</th>\n",
       "      <th>HQ city</th>\n",
       "      <th>HQ state</th>\n",
       "      <th>HQ zip</th>\n",
       "    </tr>\n",
       "  </thead>\n",
       "  <tbody>\n",
       "    <tr>\n",
       "      <th>0</th>\n",
       "      <td>33090</td>\n",
       "      <td>561 Unauthorized burning</td>\n",
       "      <td>2013</td>\n",
       "      <td>2013-01-01</td>\n",
       "      <td>2013-01-01 00:27:00</td>\n",
       "      <td>Riverside</td>\n",
       "      <td>00019275  CASTLEROCK TRL</td>\n",
       "      <td>MEAD</td>\n",
       "      <td>CA</td>\n",
       "      <td>92570</td>\n",
       "      <td>...</td>\n",
       "      <td>0</td>\n",
       "      <td>0</td>\n",
       "      <td>0</td>\n",
       "      <td>1.0</td>\n",
       "      <td>CAMPFIRE</td>\n",
       "      <td>210 W San Jacinto AVE</td>\n",
       "      <td>NaN</td>\n",
       "      <td>Perris</td>\n",
       "      <td>CA</td>\n",
       "      <td>92570-1915</td>\n",
       "    </tr>\n",
       "    <tr>\n",
       "      <th>1</th>\n",
       "      <td>33090</td>\n",
       "      <td>142 Brush, or brush and grass mixture fire</td>\n",
       "      <td>2013</td>\n",
       "      <td>2013-01-01</td>\n",
       "      <td>2013-01-01 19:03:00</td>\n",
       "      <td>Riverside</td>\n",
       "      <td>00065150  DATE PALM ST</td>\n",
       "      <td>MECC</td>\n",
       "      <td>CA</td>\n",
       "      <td>92254</td>\n",
       "      <td>...</td>\n",
       "      <td>0</td>\n",
       "      <td>0</td>\n",
       "      <td>0</td>\n",
       "      <td>1.0</td>\n",
       "      <td>MISCELLANEOUS</td>\n",
       "      <td>210 W San Jacinto AVE</td>\n",
       "      <td>NaN</td>\n",
       "      <td>Perris</td>\n",
       "      <td>CA</td>\n",
       "      <td>92570-1915</td>\n",
       "    </tr>\n",
       "    <tr>\n",
       "      <th>2</th>\n",
       "      <td>30065</td>\n",
       "      <td>173 Cultivated trees or nursery stock fire</td>\n",
       "      <td>2013</td>\n",
       "      <td>2013-01-01</td>\n",
       "      <td>2013-01-01 00:00:00</td>\n",
       "      <td>Orange</td>\n",
       "      <td>8592  PALM</td>\n",
       "      <td>OLIVE</td>\n",
       "      <td>CA</td>\n",
       "      <td>000000000</td>\n",
       "      <td>...</td>\n",
       "      <td>0</td>\n",
       "      <td>0</td>\n",
       "      <td>0</td>\n",
       "      <td>0.2</td>\n",
       "      <td>ARSON</td>\n",
       "      <td>1 Fire Authority RD</td>\n",
       "      <td>NaN</td>\n",
       "      <td>Irvine</td>\n",
       "      <td>CA</td>\n",
       "      <td>92602</td>\n",
       "    </tr>\n",
       "    <tr>\n",
       "      <th>3</th>\n",
       "      <td>19105</td>\n",
       "      <td>173 Cultivated trees or nursery stock fire</td>\n",
       "      <td>2013</td>\n",
       "      <td>2013-01-01</td>\n",
       "      <td>2013-01-01 00:00:00</td>\n",
       "      <td>Los Angeles</td>\n",
       "      <td>15077 W PADDOCK ST</td>\n",
       "      <td>SYLMAR</td>\n",
       "      <td>CA</td>\n",
       "      <td>91342</td>\n",
       "      <td>...</td>\n",
       "      <td>0</td>\n",
       "      <td>0</td>\n",
       "      <td>500</td>\n",
       "      <td>0.0</td>\n",
       "      <td>ARSON</td>\n",
       "      <td>200 N Main ST, Room 1800</td>\n",
       "      <td>NaN</td>\n",
       "      <td>Los Angeles</td>\n",
       "      <td>CA</td>\n",
       "      <td>90012-4110</td>\n",
       "    </tr>\n",
       "    <tr>\n",
       "      <th>4</th>\n",
       "      <td>19105</td>\n",
       "      <td>173 Cultivated trees or nursery stock fire</td>\n",
       "      <td>2013</td>\n",
       "      <td>2013-01-01</td>\n",
       "      <td>2013-01-01 00:00:00</td>\n",
       "      <td>Los Angeles</td>\n",
       "      <td>260 E 71ST ST X S SAN PEDRO ST</td>\n",
       "      <td>LOS ANGELES</td>\n",
       "      <td>CA</td>\n",
       "      <td>90003</td>\n",
       "      <td>...</td>\n",
       "      <td>0</td>\n",
       "      <td>0</td>\n",
       "      <td>0</td>\n",
       "      <td>0.0</td>\n",
       "      <td>ARSON</td>\n",
       "      <td>200 N Main ST, Room 1800</td>\n",
       "      <td>NaN</td>\n",
       "      <td>Los Angeles</td>\n",
       "      <td>CA</td>\n",
       "      <td>90012-4110</td>\n",
       "    </tr>\n",
       "  </tbody>\n",
       "</table>\n",
       "<p>5 rows × 22 columns</p>\n",
       "</div>"
      ],
      "text/plain": [
       "    FDID     nfirs_incidenttype_code_and_description  year start_date  \\\n",
       "0  33090                    561 Unauthorized burning  2013 2013-01-01   \n",
       "1  33090  142 Brush, or brush and grass mixture fire  2013 2013-01-01   \n",
       "2  30065  173 Cultivated trees or nursery stock fire  2013 2013-01-01   \n",
       "3  19105  173 Cultivated trees or nursery stock fire  2013 2013-01-01   \n",
       "4  19105  173 Cultivated trees or nursery stock fire  2013 2013-01-01   \n",
       "\n",
       "     containment_date       county                      street_address  \\\n",
       "0 2013-01-01 00:27:00    Riverside           00019275  CASTLEROCK TRL    \n",
       "1 2013-01-01 19:03:00    Riverside             00065150  DATE PALM ST    \n",
       "2 2013-01-01 00:00:00       Orange                        8592  PALM     \n",
       "3 2013-01-01 00:00:00  Los Angeles                 15077 W PADDOCK ST    \n",
       "4 2013-01-01 00:00:00  Los Angeles    260 E 71ST ST X S SAN PEDRO ST     \n",
       "\n",
       "          city state        zip  ...  total_injuries  total_fatalities  \\\n",
       "0         MEAD    CA      92570  ...               0                 0   \n",
       "1         MECC    CA      92254  ...               0                 0   \n",
       "2        OLIVE    CA  000000000  ...               0                 0   \n",
       "3       SYLMAR    CA      91342  ...               0                 0   \n",
       "4  LOS ANGELES    CA      90003  ...               0                 0   \n",
       "\n",
       "   estimated_property_contents_loss  total_acres_burned          cause  \\\n",
       "0                                 0                 1.0       CAMPFIRE   \n",
       "1                                 0                 1.0  MISCELLANEOUS   \n",
       "2                                 0                 0.2          ARSON   \n",
       "3                               500                 0.0          ARSON   \n",
       "4                                 0                 0.0          ARSON   \n",
       "\n",
       "                   HQ addr1 HQ addr2      HQ city HQ state      HQ zip  \n",
       "0     210 W San Jacinto AVE      NaN       Perris       CA  92570-1915  \n",
       "1     210 W San Jacinto AVE      NaN       Perris       CA  92570-1915  \n",
       "2       1 Fire Authority RD      NaN       Irvine       CA       92602  \n",
       "3  200 N Main ST, Room 1800      NaN  Los Angeles       CA  90012-4110  \n",
       "4  200 N Main ST, Room 1800      NaN  Los Angeles       CA  90012-4110  \n",
       "\n",
       "[5 rows x 22 columns]"
      ]
     },
     "execution_count": 14,
     "metadata": {},
     "output_type": "execute_result"
    },
    {
     "data": {
      "application/javascript": [
       "\n",
       "            setTimeout(function() {\n",
       "                var nbb_cell_id = 14;\n",
       "                var nbb_unformatted_code = \"new_df.head()\";\n",
       "                var nbb_formatted_code = \"new_df.head()\";\n",
       "                var nbb_cells = Jupyter.notebook.get_cells();\n",
       "                for (var i = 0; i < nbb_cells.length; ++i) {\n",
       "                    if (nbb_cells[i].input_prompt_number == nbb_cell_id) {\n",
       "                        if (nbb_cells[i].get_text() == nbb_unformatted_code) {\n",
       "                             nbb_cells[i].set_text(nbb_formatted_code);\n",
       "                        }\n",
       "                        break;\n",
       "                    }\n",
       "                }\n",
       "            }, 500);\n",
       "            "
      ],
      "text/plain": [
       "<IPython.core.display.Javascript object>"
      ]
     },
     "metadata": {},
     "output_type": "display_data"
    }
   ],
   "source": [
    "new_df.head()"
   ]
  },
  {
   "cell_type": "code",
   "execution_count": 19,
   "metadata": {},
   "outputs": [
    {
     "data": {
      "text/plain": [
       "array(['CA', 'OO', nan, 'AL', 'NV', 'TN', 'AR', 'CO', 'AZ', 'Vi', 'OR'],\n",
       "      dtype=object)"
      ]
     },
     "execution_count": 19,
     "metadata": {},
     "output_type": "execute_result"
    },
    {
     "data": {
      "application/javascript": [
       "\n",
       "            setTimeout(function() {\n",
       "                var nbb_cell_id = 19;\n",
       "                var nbb_unformatted_code = \"# sanity check states\\n\\nnew_df[\\\"state\\\"].unique()\";\n",
       "                var nbb_formatted_code = \"# sanity check states\\n\\nnew_df[\\\"state\\\"].unique()\";\n",
       "                var nbb_cells = Jupyter.notebook.get_cells();\n",
       "                for (var i = 0; i < nbb_cells.length; ++i) {\n",
       "                    if (nbb_cells[i].input_prompt_number == nbb_cell_id) {\n",
       "                        if (nbb_cells[i].get_text() == nbb_unformatted_code) {\n",
       "                             nbb_cells[i].set_text(nbb_formatted_code);\n",
       "                        }\n",
       "                        break;\n",
       "                    }\n",
       "                }\n",
       "            }, 500);\n",
       "            "
      ],
      "text/plain": [
       "<IPython.core.display.Javascript object>"
      ]
     },
     "metadata": {},
     "output_type": "display_data"
    }
   ],
   "source": [
    "# sanity check states\n",
    "\n",
    "new_df[\"state\"].unique()"
   ]
  },
  {
   "cell_type": "code",
   "execution_count": 20,
   "metadata": {},
   "outputs": [
    {
     "data": {
      "text/plain": [
       "array(['CA', nan], dtype=object)"
      ]
     },
     "execution_count": 20,
     "metadata": {},
     "output_type": "execute_result"
    },
    {
     "data": {
      "application/javascript": [
       "\n",
       "            setTimeout(function() {\n",
       "                var nbb_cell_id = 20;\n",
       "                var nbb_unformatted_code = \"new_df[\\\"HQ state\\\"].unique()\";\n",
       "                var nbb_formatted_code = \"new_df[\\\"HQ state\\\"].unique()\";\n",
       "                var nbb_cells = Jupyter.notebook.get_cells();\n",
       "                for (var i = 0; i < nbb_cells.length; ++i) {\n",
       "                    if (nbb_cells[i].input_prompt_number == nbb_cell_id) {\n",
       "                        if (nbb_cells[i].get_text() == nbb_unformatted_code) {\n",
       "                             nbb_cells[i].set_text(nbb_formatted_code);\n",
       "                        }\n",
       "                        break;\n",
       "                    }\n",
       "                }\n",
       "            }, 500);\n",
       "            "
      ],
      "text/plain": [
       "<IPython.core.display.Javascript object>"
      ]
     },
     "metadata": {},
     "output_type": "display_data"
    }
   ],
   "source": [
    "new_df[\"HQ state\"].unique()"
   ]
  },
  {
   "cell_type": "code",
   "execution_count": null,
   "metadata": {},
   "outputs": [],
   "source": []
  },
  {
   "cell_type": "code",
   "execution_count": null,
   "metadata": {},
   "outputs": [],
   "source": []
  },
  {
   "cell_type": "code",
   "execution_count": null,
   "metadata": {},
   "outputs": [],
   "source": []
  },
  {
   "cell_type": "code",
   "execution_count": null,
   "metadata": {},
   "outputs": [],
   "source": []
  },
  {
   "cell_type": "markdown",
   "metadata": {},
   "source": [
    "## Attribute Dictionary\n",
    "| column      | data type   | description\n",
    "| ----------- | ----------- | ----------- |\n",
    "| fire_department_identification_number_fdid      | int64       |Identification number of fire department involved in incident\n",
    "| fire_department_name   | object        |Name of fire department involved in incident\n",
    "| incident_number   | object        |Identifying number for incident\n",
    "| exposure_number   | int64        |Should represent number of structures exposed to fire incident- this number is inconsistent\n",
    "| nfirs_incidenttype_code_and_description   | object        |Code and description of fire type\n",
    "| incident_name   | object        |Name of fire incident if named\n",
    "| year   | int64        |year incident occurred\n",
    "| start_date   | datetime64        |Date fire started\n",
    "| containment_date   | datetime64        |Date fire declared contained\n",
    "| county   | object        |County of incident\n",
    "| street_address   | object        |Street address of incident\n",
    "| city   | object        |City where incident took place\n",
    "| state   | object        |State where incident took place\n",
    "| cross_streets_directions_national_grid   | object        |Description of fire location if near landmark\n",
    "| latitude   | float64        |Latitude of fire origin\n",
    "| longitude   | float64        |Longitude of fire origin\n",
    "| total_injuries   | int64        |Number of people injured by fire\n",
    "| total_fatalities   | int64        |Number of people killed by fire\n",
    "| estimated_property_contents_loss   | int64        |dollar amounts or structures quantity lost - inconsistent\n",
    "| total_acres_burned   | float64        |Total acres burned by fire\n",
    "| cause   | object        | Cause of fire"
   ]
  },
  {
   "cell_type": "code",
   "execution_count": null,
   "metadata": {},
   "outputs": [],
   "source": []
  }
 ],
 "metadata": {
  "kernelspec": {
   "display_name": "Python 3",
   "language": "python",
   "name": "python3"
  },
  "language_info": {
   "codemirror_mode": {
    "name": "ipython",
    "version": 3
   },
   "file_extension": ".py",
   "mimetype": "text/x-python",
   "name": "python",
   "nbconvert_exporter": "python",
   "pygments_lexer": "ipython3",
   "version": "3.7.4"
  }
 },
 "nbformat": 4,
 "nbformat_minor": 2
}
