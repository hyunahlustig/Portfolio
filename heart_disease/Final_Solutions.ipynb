{
 "cells": [
  {
   "cell_type": "markdown",
   "metadata": {
    "colab_type": "text",
    "id": "d4hZ6pHmpcIe"
   },
   "source": [
    "<h2>**Problem Definition**</h2>\n",
    "<p><i>\n",
    "    Chest pain can be an early indicator of a fatal heart disease, which can be restricted from progression if diagnosed in early stages. Intuition-based analysis of a patients diagnostic reports and health records in order to decide of it is due to a heart desiese or due to some other minor circumstances, has been the traditional way of approaching such cases of chest pain. There is a significant room for enhancing the accuracy, efficiency and reliablity of this process using a data-driven approach, which goes in-hand with the domain experts (Cardiologists).</i> "
   ]
  },
  {
   "cell_type": "code",
   "execution_count": 1,
   "metadata": {},
   "outputs": [
    {
     "data": {
      "application/javascript": [
       "\n",
       "            setTimeout(function() {\n",
       "                var nbb_cell_id = 1;\n",
       "                var nbb_unformatted_code = \"%reload_ext nb_black\";\n",
       "                var nbb_formatted_code = \"%reload_ext nb_black\";\n",
       "                var nbb_cells = Jupyter.notebook.get_cells();\n",
       "                for (var i = 0; i < nbb_cells.length; ++i) {\n",
       "                    if (nbb_cells[i].input_prompt_number == nbb_cell_id) {\n",
       "                        if (nbb_cells[i].get_text() == nbb_unformatted_code) {\n",
       "                             nbb_cells[i].set_text(nbb_formatted_code);\n",
       "                        }\n",
       "                        break;\n",
       "                    }\n",
       "                }\n",
       "            }, 500);\n",
       "            "
      ],
      "text/plain": [
       "<IPython.core.display.Javascript object>"
      ]
     },
     "metadata": {},
     "output_type": "display_data"
    }
   ],
   "source": [
    "%reload_ext nb_black"
   ]
  },
  {
   "cell_type": "code",
   "execution_count": 2,
   "metadata": {
    "colab": {
     "base_uri": "https://localhost:8080/",
     "height": 557
    },
    "colab_type": "code",
    "executionInfo": {
     "elapsed": 10047,
     "status": "ok",
     "timestamp": 1585511815460,
     "user": {
      "displayName": "Jay Padhya",
      "photoUrl": "https://lh3.googleusercontent.com/a-/AOh14Gj1OAEdzZAC7SF2HiesksfZADtq4e4xWMlhjovH=s64",
      "userId": "15507035533612288155"
     },
     "user_tz": 240
    },
    "id": "dUhc7E74gvML",
    "outputId": "dccd2a8d-6ab3-4f00-a558-599fb1185e04"
   },
   "outputs": [
    {
     "data": {
      "application/javascript": [
       "\n",
       "            setTimeout(function() {\n",
       "                var nbb_cell_id = 2;\n",
       "                var nbb_unformatted_code = \"import warnings\\nimport numpy as np\\nimport pandas as pd\\n\\nimport scipy.stats as stats\\nimport statsmodels.api as sm\\nfrom statsmodels.api import add_constant\\nfrom statsmodels.stats.outliers_influence import variance_inflation_factor\\n\\nfrom sklearn.model_selection import train_test_split, GridSearchCV\\nfrom sklearn.preprocessing import StandardScaler\\nfrom sklearn.svm import SVC\\nfrom sklearn.linear_model import LogisticRegression\\nfrom sklearn.ensemble import RandomForestClassifier\\nfrom sklearn.pipeline import Pipeline\\nfrom sklearn.metrics import confusion_matrix, classification_report\\n\\nimport matplotlib.pyplot as plt\\nimport seaborn as sns\\n\\n%matplotlib inline\";\n",
       "                var nbb_formatted_code = \"import warnings\\nimport numpy as np\\nimport pandas as pd\\n\\nimport scipy.stats as stats\\nimport statsmodels.api as sm\\nfrom statsmodels.api import add_constant\\nfrom statsmodels.stats.outliers_influence import variance_inflation_factor\\n\\nfrom sklearn.model_selection import train_test_split, GridSearchCV\\nfrom sklearn.preprocessing import StandardScaler\\nfrom sklearn.svm import SVC\\nfrom sklearn.linear_model import LogisticRegression\\nfrom sklearn.ensemble import RandomForestClassifier\\nfrom sklearn.pipeline import Pipeline\\nfrom sklearn.metrics import confusion_matrix, classification_report\\n\\nimport matplotlib.pyplot as plt\\nimport seaborn as sns\\n\\n%matplotlib inline\";\n",
       "                var nbb_cells = Jupyter.notebook.get_cells();\n",
       "                for (var i = 0; i < nbb_cells.length; ++i) {\n",
       "                    if (nbb_cells[i].input_prompt_number == nbb_cell_id) {\n",
       "                        if (nbb_cells[i].get_text() == nbb_unformatted_code) {\n",
       "                             nbb_cells[i].set_text(nbb_formatted_code);\n",
       "                        }\n",
       "                        break;\n",
       "                    }\n",
       "                }\n",
       "            }, 500);\n",
       "            "
      ],
      "text/plain": [
       "<IPython.core.display.Javascript object>"
      ]
     },
     "metadata": {},
     "output_type": "display_data"
    }
   ],
   "source": [
    "import warnings\n",
    "import numpy as np\n",
    "import pandas as pd\n",
    "\n",
    "import scipy.stats as stats\n",
    "import statsmodels.api as sm\n",
    "from statsmodels.api import add_constant\n",
    "from statsmodels.stats.outliers_influence import variance_inflation_factor\n",
    "\n",
    "from sklearn.model_selection import train_test_split, GridSearchCV\n",
    "from sklearn.preprocessing import StandardScaler\n",
    "from sklearn.svm import SVC\n",
    "from sklearn.linear_model import LogisticRegression\n",
    "from sklearn.ensemble import RandomForestClassifier\n",
    "from sklearn.pipeline import Pipeline\n",
    "from sklearn.metrics import confusion_matrix, classification_report\n",
    "\n",
    "import matplotlib.pyplot as plt\n",
    "import seaborn as sns\n",
    "\n",
    "%matplotlib inline"
   ]
  },
  {
   "cell_type": "code",
   "execution_count": 3,
   "metadata": {},
   "outputs": [
    {
     "data": {
      "application/javascript": [
       "\n",
       "            setTimeout(function() {\n",
       "                var nbb_cell_id = 3;\n",
       "                var nbb_unformatted_code = \"def print_vif(x):\\n    \\\"\\\"\\\"Utility for checking multicollinearity assumption\\n    \\n    :param x: input features to check using VIF. This is assumed to be a pandas.DataFrame\\n    :return: nothing is returned the VIFs are printed as a pandas series\\n    \\\"\\\"\\\"\\n    # Silence numpy FutureWarning about .ptp\\n    with warnings.catch_warnings():\\n        warnings.simplefilter(\\\"ignore\\\")\\n        x = sm.add_constant(x)\\n\\n    vifs = []\\n    for i in range(x.shape[1]):\\n        vif = variance_inflation_factor(x.values, i)\\n        vifs.append(vif)\\n\\n    print(\\\"VIF results\\\\n-------------------------------\\\")\\n    print(pd.Series(vifs, index=x.columns))\\n    print(\\\"-------------------------------\\\\n\\\")\";\n",
       "                var nbb_formatted_code = \"def print_vif(x):\\n    \\\"\\\"\\\"Utility for checking multicollinearity assumption\\n    \\n    :param x: input features to check using VIF. This is assumed to be a pandas.DataFrame\\n    :return: nothing is returned the VIFs are printed as a pandas series\\n    \\\"\\\"\\\"\\n    # Silence numpy FutureWarning about .ptp\\n    with warnings.catch_warnings():\\n        warnings.simplefilter(\\\"ignore\\\")\\n        x = sm.add_constant(x)\\n\\n    vifs = []\\n    for i in range(x.shape[1]):\\n        vif = variance_inflation_factor(x.values, i)\\n        vifs.append(vif)\\n\\n    print(\\\"VIF results\\\\n-------------------------------\\\")\\n    print(pd.Series(vifs, index=x.columns))\\n    print(\\\"-------------------------------\\\\n\\\")\";\n",
       "                var nbb_cells = Jupyter.notebook.get_cells();\n",
       "                for (var i = 0; i < nbb_cells.length; ++i) {\n",
       "                    if (nbb_cells[i].input_prompt_number == nbb_cell_id) {\n",
       "                        if (nbb_cells[i].get_text() == nbb_unformatted_code) {\n",
       "                             nbb_cells[i].set_text(nbb_formatted_code);\n",
       "                        }\n",
       "                        break;\n",
       "                    }\n",
       "                }\n",
       "            }, 500);\n",
       "            "
      ],
      "text/plain": [
       "<IPython.core.display.Javascript object>"
      ]
     },
     "metadata": {},
     "output_type": "display_data"
    }
   ],
   "source": [
    "def print_vif(x):\n",
    "    \"\"\"Utility for checking multicollinearity assumption\n",
    "    \n",
    "    :param x: input features to check using VIF. This is assumed to be a pandas.DataFrame\n",
    "    :return: nothing is returned the VIFs are printed as a pandas series\n",
    "    \"\"\"\n",
    "    # Silence numpy FutureWarning about .ptp\n",
    "    with warnings.catch_warnings():\n",
    "        warnings.simplefilter(\"ignore\")\n",
    "        x = sm.add_constant(x)\n",
    "\n",
    "    vifs = []\n",
    "    for i in range(x.shape[1]):\n",
    "        vif = variance_inflation_factor(x.values, i)\n",
    "        vifs.append(vif)\n",
    "\n",
    "    print(\"VIF results\\n-------------------------------\")\n",
    "    print(pd.Series(vifs, index=x.columns))\n",
    "    print(\"-------------------------------\\n\")"
   ]
  },
  {
   "cell_type": "code",
   "execution_count": 4,
   "metadata": {},
   "outputs": [
    {
     "data": {
      "application/javascript": [
       "\n",
       "            setTimeout(function() {\n",
       "                var nbb_cell_id = 4;\n",
       "                var nbb_unformatted_code = \"def get_95_ci(x1, x2):\\n    # Calculate the difference of means in the observed data\\n    signal = x1.mean() - x2.mean()\\n\\n    # How much data is there? (sample size with len)\\n    # How consistent is the data (standard deviation with std)\\n    noise = np.sqrt(x1.std() ** 2 / len(x1) + x2.std() ** 2 / len(x2))\\n\\n    # Signal plus or minus noise (1.96 relates to 95% confidence level)\\n    ci_lower_bound = signal - 1.96 * noise\\n    ci_upper_bound = signal + 1.96 * noise\\n\\n    return (ci_lower_bound, ci_upper_bound)\";\n",
       "                var nbb_formatted_code = \"def get_95_ci(x1, x2):\\n    # Calculate the difference of means in the observed data\\n    signal = x1.mean() - x2.mean()\\n\\n    # How much data is there? (sample size with len)\\n    # How consistent is the data (standard deviation with std)\\n    noise = np.sqrt(x1.std() ** 2 / len(x1) + x2.std() ** 2 / len(x2))\\n\\n    # Signal plus or minus noise (1.96 relates to 95% confidence level)\\n    ci_lower_bound = signal - 1.96 * noise\\n    ci_upper_bound = signal + 1.96 * noise\\n\\n    return (ci_lower_bound, ci_upper_bound)\";\n",
       "                var nbb_cells = Jupyter.notebook.get_cells();\n",
       "                for (var i = 0; i < nbb_cells.length; ++i) {\n",
       "                    if (nbb_cells[i].input_prompt_number == nbb_cell_id) {\n",
       "                        if (nbb_cells[i].get_text() == nbb_unformatted_code) {\n",
       "                             nbb_cells[i].set_text(nbb_formatted_code);\n",
       "                        }\n",
       "                        break;\n",
       "                    }\n",
       "                }\n",
       "            }, 500);\n",
       "            "
      ],
      "text/plain": [
       "<IPython.core.display.Javascript object>"
      ]
     },
     "metadata": {},
     "output_type": "display_data"
    }
   ],
   "source": [
    "def get_95_ci(x1, x2):\n",
    "    # Calculate the difference of means in the observed data\n",
    "    signal = x1.mean() - x2.mean()\n",
    "\n",
    "    # How much data is there? (sample size with len)\n",
    "    # How consistent is the data (standard deviation with std)\n",
    "    noise = np.sqrt(x1.std() ** 2 / len(x1) + x2.std() ** 2 / len(x2))\n",
    "\n",
    "    # Signal plus or minus noise (1.96 relates to 95% confidence level)\n",
    "    ci_lower_bound = signal - 1.96 * noise\n",
    "    ci_upper_bound = signal + 1.96 * noise\n",
    "\n",
    "    return (ci_lower_bound, ci_upper_bound)"
   ]
  },
  {
   "cell_type": "code",
   "execution_count": 5,
   "metadata": {
    "colab": {},
    "colab_type": "code",
    "id": "uAVPL308oMVZ"
   },
   "outputs": [
    {
     "data": {
      "application/javascript": [
       "\n",
       "            setTimeout(function() {\n",
       "                var nbb_cell_id = 5;\n",
       "                var nbb_unformatted_code = \"path = \\\"heart.csv\\\"\\ndf_heart = pd.read_csv(path)\\n\\nrename_map = {\\n    \\\"cp\\\": \\\"pain_type\\\",\\n    \\\"trestbps\\\": \\\"rest_bp\\\",\\n    \\\"fbs\\\": \\\"fast_bp\\\",\\n    \\\"restecg\\\": \\\"test_ecg\\\",\\n    \\\"thalach\\\": \\\"max_hr\\\",\\n    \\\"exang \\\": \\\"ex_angina\\\",\\n    \\\"oldpeak\\\": \\\"st_depression\\\",\\n    \\\"ca\\\": \\\"number_vessels\\\",\\n    \\\"target\\\": \\\"heart_des\\\",\\n}\\n\\ndf_heart = df_heart.rename(columns=rename_map)\";\n",
       "                var nbb_formatted_code = \"path = \\\"heart.csv\\\"\\ndf_heart = pd.read_csv(path)\\n\\nrename_map = {\\n    \\\"cp\\\": \\\"pain_type\\\",\\n    \\\"trestbps\\\": \\\"rest_bp\\\",\\n    \\\"fbs\\\": \\\"fast_bp\\\",\\n    \\\"restecg\\\": \\\"test_ecg\\\",\\n    \\\"thalach\\\": \\\"max_hr\\\",\\n    \\\"exang \\\": \\\"ex_angina\\\",\\n    \\\"oldpeak\\\": \\\"st_depression\\\",\\n    \\\"ca\\\": \\\"number_vessels\\\",\\n    \\\"target\\\": \\\"heart_des\\\",\\n}\\n\\ndf_heart = df_heart.rename(columns=rename_map)\";\n",
       "                var nbb_cells = Jupyter.notebook.get_cells();\n",
       "                for (var i = 0; i < nbb_cells.length; ++i) {\n",
       "                    if (nbb_cells[i].input_prompt_number == nbb_cell_id) {\n",
       "                        if (nbb_cells[i].get_text() == nbb_unformatted_code) {\n",
       "                             nbb_cells[i].set_text(nbb_formatted_code);\n",
       "                        }\n",
       "                        break;\n",
       "                    }\n",
       "                }\n",
       "            }, 500);\n",
       "            "
      ],
      "text/plain": [
       "<IPython.core.display.Javascript object>"
      ]
     },
     "metadata": {},
     "output_type": "display_data"
    }
   ],
   "source": [
    "path = \"heart.csv\"\n",
    "df_heart = pd.read_csv(path)\n",
    "\n",
    "rename_map = {\n",
    "    \"cp\": \"pain_type\",\n",
    "    \"trestbps\": \"rest_bp\",\n",
    "    \"fbs\": \"fast_bp\",\n",
    "    \"restecg\": \"test_ecg\",\n",
    "    \"thalach\": \"max_hr\",\n",
    "    \"exang \": \"ex_angina\",\n",
    "    \"oldpeak\": \"st_depression\",\n",
    "    \"ca\": \"number_vessels\",\n",
    "    \"target\": \"heart_des\",\n",
    "}\n",
    "\n",
    "df_heart = df_heart.rename(columns=rename_map)"
   ]
  },
  {
   "cell_type": "markdown",
   "metadata": {
    "colab_type": "text",
    "id": "EfWkChNqt4-U"
   },
   "source": [
    "<h1><b>Data Cleaning for  any missing (NaN) values</b></h1>"
   ]
  },
  {
   "cell_type": "code",
   "execution_count": 6,
   "metadata": {
    "colab": {
     "base_uri": "https://localhost:8080/",
     "height": 296
    },
    "colab_type": "code",
    "executionInfo": {
     "elapsed": 359,
     "status": "ok",
     "timestamp": 1585511849419,
     "user": {
      "displayName": "Jay Padhya",
      "photoUrl": "https://lh3.googleusercontent.com/a-/AOh14Gj1OAEdzZAC7SF2HiesksfZADtq4e4xWMlhjovH=s64",
      "userId": "15507035533612288155"
     },
     "user_tz": 240
    },
    "id": "1ha5jLUrq7lE",
    "outputId": "4e10071e-e5b0-4b67-8ace-00c1ff10db77"
   },
   "outputs": [
    {
     "data": {
      "text/plain": [
       "age               0\n",
       "sex               0\n",
       "pain_type         0\n",
       "rest_bp           0\n",
       "chol              0\n",
       "fast_bp           0\n",
       "test_ecg          0\n",
       "max_hr            0\n",
       "exang             0\n",
       "st_depression     0\n",
       "slope             0\n",
       "number_vessels    0\n",
       "thal              0\n",
       "heart_des         0\n",
       "dtype: int64"
      ]
     },
     "execution_count": 6,
     "metadata": {},
     "output_type": "execute_result"
    },
    {
     "data": {
      "application/javascript": [
       "\n",
       "            setTimeout(function() {\n",
       "                var nbb_cell_id = 6;\n",
       "                var nbb_unformatted_code = \"df_heart.isnull().sum()\";\n",
       "                var nbb_formatted_code = \"df_heart.isnull().sum()\";\n",
       "                var nbb_cells = Jupyter.notebook.get_cells();\n",
       "                for (var i = 0; i < nbb_cells.length; ++i) {\n",
       "                    if (nbb_cells[i].input_prompt_number == nbb_cell_id) {\n",
       "                        if (nbb_cells[i].get_text() == nbb_unformatted_code) {\n",
       "                             nbb_cells[i].set_text(nbb_formatted_code);\n",
       "                        }\n",
       "                        break;\n",
       "                    }\n",
       "                }\n",
       "            }, 500);\n",
       "            "
      ],
      "text/plain": [
       "<IPython.core.display.Javascript object>"
      ]
     },
     "metadata": {},
     "output_type": "display_data"
    }
   ],
   "source": [
    "df_heart.isnull().sum()"
   ]
  },
  {
   "cell_type": "markdown",
   "metadata": {
    "colab_type": "text",
    "id": "0c5fvIhJvcaR"
   },
   "source": [
    "<h1><b>CHECK POINT 1 : Exploratory Data Analysis</b></h1>\n",
    "\n",
    "\n",
    "<h2><b>Questions and Solutions</b></h2>\n"
   ]
  },
  {
   "cell_type": "markdown",
   "metadata": {
    "colab_type": "text",
    "id": "1HZ0rKUexsFL"
   },
   "source": [
    "<b>1. How many people are suffering from heart disease? Also plot the stats. </b>"
   ]
  },
  {
   "cell_type": "code",
   "execution_count": 7,
   "metadata": {},
   "outputs": [
    {
     "data": {
      "text/plain": [
       "1    165\n",
       "0    138\n",
       "Name: heart_des, dtype: int64"
      ]
     },
     "execution_count": 7,
     "metadata": {},
     "output_type": "execute_result"
    },
    {
     "data": {
      "application/javascript": [
       "\n",
       "            setTimeout(function() {\n",
       "                var nbb_cell_id = 7;\n",
       "                var nbb_unformatted_code = \"df_heart[\\\"heart_des\\\"].value_counts()\";\n",
       "                var nbb_formatted_code = \"df_heart[\\\"heart_des\\\"].value_counts()\";\n",
       "                var nbb_cells = Jupyter.notebook.get_cells();\n",
       "                for (var i = 0; i < nbb_cells.length; ++i) {\n",
       "                    if (nbb_cells[i].input_prompt_number == nbb_cell_id) {\n",
       "                        if (nbb_cells[i].get_text() == nbb_unformatted_code) {\n",
       "                             nbb_cells[i].set_text(nbb_formatted_code);\n",
       "                        }\n",
       "                        break;\n",
       "                    }\n",
       "                }\n",
       "            }, 500);\n",
       "            "
      ],
      "text/plain": [
       "<IPython.core.display.Javascript object>"
      ]
     },
     "metadata": {},
     "output_type": "display_data"
    }
   ],
   "source": [
    "df_heart[\"heart_des\"].value_counts()"
   ]
  },
  {
   "cell_type": "code",
   "execution_count": 8,
   "metadata": {},
   "outputs": [
    {
     "data": {
      "text/plain": [
       "1    0.544554\n",
       "0    0.455446\n",
       "Name: heart_des, dtype: float64"
      ]
     },
     "execution_count": 8,
     "metadata": {},
     "output_type": "execute_result"
    },
    {
     "data": {
      "application/javascript": [
       "\n",
       "            setTimeout(function() {\n",
       "                var nbb_cell_id = 8;\n",
       "                var nbb_unformatted_code = \"df_heart[\\\"heart_des\\\"].value_counts(normalize=True)\";\n",
       "                var nbb_formatted_code = \"df_heart[\\\"heart_des\\\"].value_counts(normalize=True)\";\n",
       "                var nbb_cells = Jupyter.notebook.get_cells();\n",
       "                for (var i = 0; i < nbb_cells.length; ++i) {\n",
       "                    if (nbb_cells[i].input_prompt_number == nbb_cell_id) {\n",
       "                        if (nbb_cells[i].get_text() == nbb_unformatted_code) {\n",
       "                             nbb_cells[i].set_text(nbb_formatted_code);\n",
       "                        }\n",
       "                        break;\n",
       "                    }\n",
       "                }\n",
       "            }, 500);\n",
       "            "
      ],
      "text/plain": [
       "<IPython.core.display.Javascript object>"
      ]
     },
     "metadata": {},
     "output_type": "display_data"
    }
   ],
   "source": [
    "df_heart[\"heart_des\"].value_counts(normalize=True)"
   ]
  },
  {
   "cell_type": "code",
   "execution_count": 9,
   "metadata": {
    "colab": {
     "base_uri": "https://localhost:8080/",
     "height": 335
    },
    "colab_type": "code",
    "executionInfo": {
     "elapsed": 749,
     "status": "ok",
     "timestamp": 1585511855546,
     "user": {
      "displayName": "Jay Padhya",
      "photoUrl": "https://lh3.googleusercontent.com/a-/AOh14Gj1OAEdzZAC7SF2HiesksfZADtq4e4xWMlhjovH=s64",
      "userId": "15507035533612288155"
     },
     "user_tz": 240
    },
    "id": "GDsHEs2tvfz6",
    "outputId": "daa0342a-5d22-48be-9dc8-01e1901b68ed"
   },
   "outputs": [
    {
     "data": {
      "image/png": "[encoded data removed]",
      "text/plain": [
       "<Figure size 432x288 with 1 Axes>"
      ]
     },
     "metadata": {
      "needs_background": "light"
     },
     "output_type": "display_data"
    },
    {
     "data": {
      "application/javascript": [
       "\n",
       "            setTimeout(function() {\n",
       "                var nbb_cell_id = 9;\n",
       "                var nbb_unformatted_code = \"sns.countplot(\\\"heart_des\\\", data=df_heart)\\nplt.xlabel(\\\"Heart Disease\\\")\\nplt.ylabel(\\\"Number of Patients\\\")\\nplt.show()\";\n",
       "                var nbb_formatted_code = \"sns.countplot(\\\"heart_des\\\", data=df_heart)\\nplt.xlabel(\\\"Heart Disease\\\")\\nplt.ylabel(\\\"Number of Patients\\\")\\nplt.show()\";\n",
       "                var nbb_cells = Jupyter.notebook.get_cells();\n",
       "                for (var i = 0; i < nbb_cells.length; ++i) {\n",
       "                    if (nbb_cells[i].input_prompt_number == nbb_cell_id) {\n",
       "                        if (nbb_cells[i].get_text() == nbb_unformatted_code) {\n",
       "                             nbb_cells[i].set_text(nbb_formatted_code);\n",
       "                        }\n",
       "                        break;\n",
       "                    }\n",
       "                }\n",
       "            }, 500);\n",
       "            "
      ],
      "text/plain": [
       "<IPython.core.display.Javascript object>"
      ]
     },
     "metadata": {},
     "output_type": "display_data"
    }
   ],
   "source": [
    "sns.countplot(\"heart_des\", data=df_heart)\n",
    "plt.xlabel(\"Heart Disease\")\n",
    "plt.ylabel(\"Number of Patients\")\n",
    "plt.show()"
   ]
  },
  {
   "cell_type": "markdown",
   "metadata": {
    "colab_type": "text",
    "id": "a-NVOTFtyjRS"
   },
   "source": [
    "<b>2. What is the split up by gender for the patients </b>"
   ]
  },
  {
   "cell_type": "code",
   "execution_count": 10,
   "metadata": {},
   "outputs": [
    {
     "data": {
      "image/png": "[encoded data removed]",
      "text/plain": [
       "<Figure size 432x288 with 1 Axes>"
      ]
     },
     "metadata": {
      "needs_background": "light"
     },
     "output_type": "display_data"
    },
    {
     "data": {
      "application/javascript": [
       "\n",
       "            setTimeout(function() {\n",
       "                var nbb_cell_id = 10;\n",
       "                var nbb_unformatted_code = \"sns.countplot(\\\"sex\\\", hue=\\\"heart_des\\\", data=df_heart)\\nplt.title(\\\"Heart Disease Frequency for Sex\\\")\\nplt.xlabel(\\\"Sex (0 = Female, 1 = Male)\\\")\\nplt.ylabel(\\\"Frequency\\\")\\nplt.show()\";\n",
       "                var nbb_formatted_code = \"sns.countplot(\\\"sex\\\", hue=\\\"heart_des\\\", data=df_heart)\\nplt.title(\\\"Heart Disease Frequency for Sex\\\")\\nplt.xlabel(\\\"Sex (0 = Female, 1 = Male)\\\")\\nplt.ylabel(\\\"Frequency\\\")\\nplt.show()\";\n",
       "                var nbb_cells = Jupyter.notebook.get_cells();\n",
       "                for (var i = 0; i < nbb_cells.length; ++i) {\n",
       "                    if (nbb_cells[i].input_prompt_number == nbb_cell_id) {\n",
       "                        if (nbb_cells[i].get_text() == nbb_unformatted_code) {\n",
       "                             nbb_cells[i].set_text(nbb_formatted_code);\n",
       "                        }\n",
       "                        break;\n",
       "                    }\n",
       "                }\n",
       "            }, 500);\n",
       "            "
      ],
      "text/plain": [
       "<IPython.core.display.Javascript object>"
      ]
     },
     "metadata": {},
     "output_type": "display_data"
    }
   ],
   "source": [
    "sns.countplot(\"sex\", hue=\"heart_des\", data=df_heart)\n",
    "plt.title(\"Heart Disease Frequency for Sex\")\n",
    "plt.xlabel(\"Sex (0 = Female, 1 = Male)\")\n",
    "plt.ylabel(\"Frequency\")\n",
    "plt.show()"
   ]
  },
  {
   "cell_type": "markdown",
   "metadata": {
    "colab_type": "text",
    "id": "CR9uy2rv5B2y"
   },
   "source": [
    "<b>3. Visualize frequency distribution of the thalach (max heart rate) variable and find what's the heart rate and heart disease relation?   </b>"
   ]
  },
  {
   "cell_type": "code",
   "execution_count": 11,
   "metadata": {
    "colab": {
     "base_uri": "https://localhost:8080/",
     "height": 279
    },
    "colab_type": "code",
    "executionInfo": {
     "elapsed": 969,
     "status": "ok",
     "timestamp": 1585511860976,
     "user": {
      "displayName": "Jay Padhya",
      "photoUrl": "https://lh3.googleusercontent.com/a-/AOh14Gj1OAEdzZAC7SF2HiesksfZADtq4e4xWMlhjovH=s64",
      "userId": "15507035533612288155"
     },
     "user_tz": 240
    },
    "id": "iQGdQxG25Dyy",
    "outputId": "c7fd2e8f-f538-44a9-acc8-ba7c4e03f897",
    "scrolled": true
   },
   "outputs": [
    {
     "data": {
      "image/png": "[encoded data removed]",
      "text/plain": [
       "<Figure size 432x288 with 1 Axes>"
      ]
     },
     "metadata": {
      "needs_background": "light"
     },
     "output_type": "display_data"
    },
    {
     "data": {
      "application/javascript": [
       "\n",
       "            setTimeout(function() {\n",
       "                var nbb_cell_id = 11;\n",
       "                var nbb_unformatted_code = \"sns.distplot(df_heart[\\\"max_hr\\\"])\\nplt.xlabel(\\\"Max Heart rate\\\")\\nplt.show()\";\n",
       "                var nbb_formatted_code = \"sns.distplot(df_heart[\\\"max_hr\\\"])\\nplt.xlabel(\\\"Max Heart rate\\\")\\nplt.show()\";\n",
       "                var nbb_cells = Jupyter.notebook.get_cells();\n",
       "                for (var i = 0; i < nbb_cells.length; ++i) {\n",
       "                    if (nbb_cells[i].input_prompt_number == nbb_cell_id) {\n",
       "                        if (nbb_cells[i].get_text() == nbb_unformatted_code) {\n",
       "                             nbb_cells[i].set_text(nbb_formatted_code);\n",
       "                        }\n",
       "                        break;\n",
       "                    }\n",
       "                }\n",
       "            }, 500);\n",
       "            "
      ],
      "text/plain": [
       "<IPython.core.display.Javascript object>"
      ]
     },
     "metadata": {},
     "output_type": "display_data"
    }
   ],
   "source": [
    "sns.distplot(df_heart[\"max_hr\"])\n",
    "plt.xlabel(\"Max Heart rate\")\n",
    "plt.show()"
   ]
  },
  {
   "cell_type": "code",
   "execution_count": 12,
   "metadata": {},
   "outputs": [
    {
     "data": {
      "image/png": "[encoded data removed]",
      "text/plain": [
       "<Figure size 432x288 with 1 Axes>"
      ]
     },
     "metadata": {
      "needs_background": "light"
     },
     "output_type": "display_data"
    },
    {
     "data": {
      "application/javascript": [
       "\n",
       "            setTimeout(function() {\n",
       "                var nbb_cell_id = 12;\n",
       "                var nbb_unformatted_code = \"sm.qqplot(df_heart[\\\"max_hr\\\"], line=\\\"s\\\")\\nplt.show()\";\n",
       "                var nbb_formatted_code = \"sm.qqplot(df_heart[\\\"max_hr\\\"], line=\\\"s\\\")\\nplt.show()\";\n",
       "                var nbb_cells = Jupyter.notebook.get_cells();\n",
       "                for (var i = 0; i < nbb_cells.length; ++i) {\n",
       "                    if (nbb_cells[i].input_prompt_number == nbb_cell_id) {\n",
       "                        if (nbb_cells[i].get_text() == nbb_unformatted_code) {\n",
       "                             nbb_cells[i].set_text(nbb_formatted_code);\n",
       "                        }\n",
       "                        break;\n",
       "                    }\n",
       "                }\n",
       "            }, 500);\n",
       "            "
      ],
      "text/plain": [
       "<IPython.core.display.Javascript object>"
      ]
     },
     "metadata": {},
     "output_type": "display_data"
    }
   ],
   "source": [
    "sm.qqplot(df_heart[\"max_hr\"], line=\"s\")\n",
    "plt.show()"
   ]
  },
  {
   "cell_type": "code",
   "execution_count": 13,
   "metadata": {},
   "outputs": [
    {
     "data": {
      "text/plain": [
       "DescribeResult(nobs=303, minmax=(71, 202), mean=149.64686468646866, variance=524.6464057001726, skewness=-0.5347455419075503, kurtosis=-0.08068888039194055)"
      ]
     },
     "execution_count": 13,
     "metadata": {},
     "output_type": "execute_result"
    },
    {
     "data": {
      "application/javascript": [
       "\n",
       "            setTimeout(function() {\n",
       "                var nbb_cell_id = 13;\n",
       "                var nbb_unformatted_code = \"stats.describe(df_heart[\\\"max_hr\\\"])\";\n",
       "                var nbb_formatted_code = \"stats.describe(df_heart[\\\"max_hr\\\"])\";\n",
       "                var nbb_cells = Jupyter.notebook.get_cells();\n",
       "                for (var i = 0; i < nbb_cells.length; ++i) {\n",
       "                    if (nbb_cells[i].input_prompt_number == nbb_cell_id) {\n",
       "                        if (nbb_cells[i].get_text() == nbb_unformatted_code) {\n",
       "                             nbb_cells[i].set_text(nbb_formatted_code);\n",
       "                        }\n",
       "                        break;\n",
       "                    }\n",
       "                }\n",
       "            }, 500);\n",
       "            "
      ],
      "text/plain": [
       "<IPython.core.display.Javascript object>"
      ]
     },
     "metadata": {},
     "output_type": "display_data"
    }
   ],
   "source": [
    "stats.describe(df_heart[\"max_hr\"])"
   ]
  },
  {
   "cell_type": "markdown",
   "metadata": {
    "colab_type": "text",
    "id": "SF3Dq-zXMjvO"
   },
   "source": [
    "* $H_o:$ Data IS Normal\n",
    "* $H_a:$ Data IS NOT Normal\n",
    "\n",
    "*Note: this test is very sensitive to deviations from normality.  With the sample size, qqplot, and skewness/kurtosis metrics, I'd say we're normal enough for most tests.*"
   ]
  },
  {
   "cell_type": "code",
   "execution_count": 14,
   "metadata": {
    "colab": {
     "base_uri": "https://localhost:8080/",
     "height": 36
    },
    "colab_type": "code",
    "executionInfo": {
     "elapsed": 427,
     "status": "ok",
     "timestamp": 1585511865474,
     "user": {
      "displayName": "Jay Padhya",
      "photoUrl": "https://lh3.googleusercontent.com/a-/AOh14Gj1OAEdzZAC7SF2HiesksfZADtq4e4xWMlhjovH=s64",
      "userId": "15507035533612288155"
     },
     "user_tz": 240
    },
    "id": "Ma4cIGwbMg96",
    "outputId": "29b731f8-3a04-459d-badc-ced545295e27"
   },
   "outputs": [
    {
     "data": {
      "text/plain": [
       "6.620309432037175e-05"
      ]
     },
     "execution_count": 14,
     "metadata": {},
     "output_type": "execute_result"
    },
    {
     "data": {
      "application/javascript": [
       "\n",
       "            setTimeout(function() {\n",
       "                var nbb_cell_id = 14;\n",
       "                var nbb_unformatted_code = \"t, p = stats.shapiro(df_heart[\\\"max_hr\\\"])\\np\";\n",
       "                var nbb_formatted_code = \"t, p = stats.shapiro(df_heart[\\\"max_hr\\\"])\\np\";\n",
       "                var nbb_cells = Jupyter.notebook.get_cells();\n",
       "                for (var i = 0; i < nbb_cells.length; ++i) {\n",
       "                    if (nbb_cells[i].input_prompt_number == nbb_cell_id) {\n",
       "                        if (nbb_cells[i].get_text() == nbb_unformatted_code) {\n",
       "                             nbb_cells[i].set_text(nbb_formatted_code);\n",
       "                        }\n",
       "                        break;\n",
       "                    }\n",
       "                }\n",
       "            }, 500);\n",
       "            "
      ],
      "text/plain": [
       "<IPython.core.display.Javascript object>"
      ]
     },
     "metadata": {},
     "output_type": "display_data"
    }
   ],
   "source": [
    "t, p = stats.shapiro(df_heart[\"max_hr\"])\n",
    "p"
   ]
  },
  {
   "cell_type": "code",
   "execution_count": 15,
   "metadata": {},
   "outputs": [
    {
     "data": {
      "text/plain": [
       "(0.4217409338106744, 1.697337638656172e-14)"
      ]
     },
     "execution_count": 15,
     "metadata": {},
     "output_type": "execute_result"
    },
    {
     "data": {
      "application/javascript": [
       "\n",
       "            setTimeout(function() {\n",
       "                var nbb_cell_id = 15;\n",
       "                var nbb_unformatted_code = \"stats.pearsonr(df_heart[\\\"heart_des\\\"], df_heart[\\\"max_hr\\\"])\";\n",
       "                var nbb_formatted_code = \"stats.pearsonr(df_heart[\\\"heart_des\\\"], df_heart[\\\"max_hr\\\"])\";\n",
       "                var nbb_cells = Jupyter.notebook.get_cells();\n",
       "                for (var i = 0; i < nbb_cells.length; ++i) {\n",
       "                    if (nbb_cells[i].input_prompt_number == nbb_cell_id) {\n",
       "                        if (nbb_cells[i].get_text() == nbb_unformatted_code) {\n",
       "                             nbb_cells[i].set_text(nbb_formatted_code);\n",
       "                        }\n",
       "                        break;\n",
       "                    }\n",
       "                }\n",
       "            }, 500);\n",
       "            "
      ],
      "text/plain": [
       "<IPython.core.display.Javascript object>"
      ]
     },
     "metadata": {},
     "output_type": "display_data"
    }
   ],
   "source": [
    "stats.pearsonr(df_heart[\"heart_des\"], df_heart[\"max_hr\"])"
   ]
  },
  {
   "cell_type": "markdown",
   "metadata": {
    "colab_type": "text",
    "id": "mncitHwxNicW"
   },
   "source": [
    "<i>Since the heart desease and max heart rate are positively correlated, chances of Heart Disease increase with increase in heart rate.</i>\n",
    "\n",
    "<b><i>Hypothesis test of mean heart rate of patients with and without heart Disease</i></b>\n",
    "<p>\n",
    " <li>$H_0:\\mu_{HeartRateOfHeart Disease}=\\mu_{HeartRateOfNo Heart Disease}$\n",
    " <li>$H_0:\\mu_{HeartRateOfHeart Disease}!=\\mu_{HeartRateOfNo Heart Disease}$\n",
    "     \n",
    "<i>Forming two groups and testing for normality of both the groups.</i>\n",
    "</p>"
   ]
  },
  {
   "cell_type": "code",
   "execution_count": 16,
   "metadata": {
    "colab": {
     "base_uri": "https://localhost:8080/",
     "height": 54
    },
    "colab_type": "code",
    "executionInfo": {
     "elapsed": 345,
     "status": "ok",
     "timestamp": 1585511866910,
     "user": {
      "displayName": "Jay Padhya",
      "photoUrl": "https://lh3.googleusercontent.com/a-/AOh14Gj1OAEdzZAC7SF2HiesksfZADtq4e4xWMlhjovH=s64",
      "userId": "15507035533612288155"
     },
     "user_tz": 240
    },
    "id": "iUSFT4y8PHoe",
    "outputId": "292be1d6-2a4b-42c4-c93f-725a8bcb990a"
   },
   "outputs": [
    {
     "name": "stdout",
     "output_type": "stream",
     "text": [
      "The p-value for shapiro test of `no_heart_des`: 0.4253\n",
      "The p-value for shapiro test of `yes_heart_des`: 0.0004\n"
     ]
    },
    {
     "data": {
      "application/javascript": [
       "\n",
       "            setTimeout(function() {\n",
       "                var nbb_cell_id = 16;\n",
       "                var nbb_unformatted_code = \"no_heart_des = df_heart[df_heart[\\\"heart_des\\\"] == 0]\\nyes_heart_des = df_heart[df_heart[\\\"heart_des\\\"] == 1]\\n\\nt1, p1 = stats.shapiro(no_heart_des[\\\"max_hr\\\"])\\nt2, p2 = stats.shapiro(yes_heart_des[\\\"max_hr\\\"])\\n\\nprint(f\\\"The p-value for shapiro test of `no_heart_des`: {p1:.4f}\\\")\\nprint(f\\\"The p-value for shapiro test of `yes_heart_des`: {p2:.4f}\\\")\";\n",
       "                var nbb_formatted_code = \"no_heart_des = df_heart[df_heart[\\\"heart_des\\\"] == 0]\\nyes_heart_des = df_heart[df_heart[\\\"heart_des\\\"] == 1]\\n\\nt1, p1 = stats.shapiro(no_heart_des[\\\"max_hr\\\"])\\nt2, p2 = stats.shapiro(yes_heart_des[\\\"max_hr\\\"])\\n\\nprint(f\\\"The p-value for shapiro test of `no_heart_des`: {p1:.4f}\\\")\\nprint(f\\\"The p-value for shapiro test of `yes_heart_des`: {p2:.4f}\\\")\";\n",
       "                var nbb_cells = Jupyter.notebook.get_cells();\n",
       "                for (var i = 0; i < nbb_cells.length; ++i) {\n",
       "                    if (nbb_cells[i].input_prompt_number == nbb_cell_id) {\n",
       "                        if (nbb_cells[i].get_text() == nbb_unformatted_code) {\n",
       "                             nbb_cells[i].set_text(nbb_formatted_code);\n",
       "                        }\n",
       "                        break;\n",
       "                    }\n",
       "                }\n",
       "            }, 500);\n",
       "            "
      ],
      "text/plain": [
       "<IPython.core.display.Javascript object>"
      ]
     },
     "metadata": {},
     "output_type": "display_data"
    }
   ],
   "source": [
    "no_heart_des = df_heart[df_heart[\"heart_des\"] == 0]\n",
    "yes_heart_des = df_heart[df_heart[\"heart_des\"] == 1]\n",
    "\n",
    "t1, p1 = stats.shapiro(no_heart_des[\"max_hr\"])\n",
    "t2, p2 = stats.shapiro(yes_heart_des[\"max_hr\"])\n",
    "\n",
    "print(f\"The p-value for shapiro test of `no_heart_des`: {p1:.4f}\")\n",
    "print(f\"The p-value for shapiro test of `yes_heart_des`: {p2:.4f}\")"
   ]
  },
  {
   "cell_type": "code",
   "execution_count": 17,
   "metadata": {},
   "outputs": [
    {
     "name": "stdout",
     "output_type": "stream",
     "text": [
      "DescribeResult(nobs=138, minmax=(71, 195), mean=139.1014492753623, variance=510.7049613879192, skewness=-0.2935472748025849, kurtosis=-0.23176522769519403)\n"
     ]
    },
    {
     "data": {
      "image/png": "[encoded data removed]",
      "text/plain": [
       "<Figure size 432x288 with 1 Axes>"
      ]
     },
     "metadata": {
      "needs_background": "light"
     },
     "output_type": "display_data"
    },
    {
     "data": {
      "application/javascript": [
       "\n",
       "            setTimeout(function() {\n",
       "                var nbb_cell_id = 17;\n",
       "                var nbb_unformatted_code = \"print(stats.describe(no_heart_des[\\\"max_hr\\\"]))\\nsm.qqplot(no_heart_des[\\\"max_hr\\\"], line=\\\"s\\\")\\nplt.show()\";\n",
       "                var nbb_formatted_code = \"print(stats.describe(no_heart_des[\\\"max_hr\\\"]))\\nsm.qqplot(no_heart_des[\\\"max_hr\\\"], line=\\\"s\\\")\\nplt.show()\";\n",
       "                var nbb_cells = Jupyter.notebook.get_cells();\n",
       "                for (var i = 0; i < nbb_cells.length; ++i) {\n",
       "                    if (nbb_cells[i].input_prompt_number == nbb_cell_id) {\n",
       "                        if (nbb_cells[i].get_text() == nbb_unformatted_code) {\n",
       "                             nbb_cells[i].set_text(nbb_formatted_code);\n",
       "                        }\n",
       "                        break;\n",
       "                    }\n",
       "                }\n",
       "            }, 500);\n",
       "            "
      ],
      "text/plain": [
       "<IPython.core.display.Javascript object>"
      ]
     },
     "metadata": {},
     "output_type": "display_data"
    }
   ],
   "source": [
    "print(stats.describe(no_heart_des[\"max_hr\"]))\n",
    "sm.qqplot(no_heart_des[\"max_hr\"], line=\"s\")\n",
    "plt.show()"
   ]
  },
  {
   "cell_type": "code",
   "execution_count": 18,
   "metadata": {},
   "outputs": [
    {
     "name": "stdout",
     "output_type": "stream",
     "text": [
      "DescribeResult(nobs=165, minmax=(96, 202), mean=158.46666666666667, variance=367.65284552845526, skewness=-0.7012606169032712, kurtosis=0.41075760014691554)\n"
     ]
    },
    {
     "data": {
      "image/png": "[encoded data removed]",
      "text/plain": [
       "<Figure size 432x288 with 1 Axes>"
      ]
     },
     "metadata": {
      "needs_background": "light"
     },
     "output_type": "display_data"
    },
    {
     "data": {
      "application/javascript": [
       "\n",
       "            setTimeout(function() {\n",
       "                var nbb_cell_id = 18;\n",
       "                var nbb_unformatted_code = \"print(stats.describe(yes_heart_des[\\\"max_hr\\\"]))\\nsm.qqplot(yes_heart_des[\\\"max_hr\\\"], line=\\\"s\\\")\\nplt.show()\";\n",
       "                var nbb_formatted_code = \"print(stats.describe(yes_heart_des[\\\"max_hr\\\"]))\\nsm.qqplot(yes_heart_des[\\\"max_hr\\\"], line=\\\"s\\\")\\nplt.show()\";\n",
       "                var nbb_cells = Jupyter.notebook.get_cells();\n",
       "                for (var i = 0; i < nbb_cells.length; ++i) {\n",
       "                    if (nbb_cells[i].input_prompt_number == nbb_cell_id) {\n",
       "                        if (nbb_cells[i].get_text() == nbb_unformatted_code) {\n",
       "                             nbb_cells[i].set_text(nbb_formatted_code);\n",
       "                        }\n",
       "                        break;\n",
       "                    }\n",
       "                }\n",
       "            }, 500);\n",
       "            "
      ],
      "text/plain": [
       "<IPython.core.display.Javascript object>"
      ]
     },
     "metadata": {},
     "output_type": "display_data"
    }
   ],
   "source": [
    "print(stats.describe(yes_heart_des[\"max_hr\"]))\n",
    "sm.qqplot(yes_heart_des[\"max_hr\"], line=\"s\")\n",
    "plt.show()"
   ]
  },
  {
   "cell_type": "markdown",
   "metadata": {
    "colab_type": "text",
    "id": "8mi9DmzHPOqy"
   },
   "source": [
    "Both seem normal enough despite shapiro test failing"
   ]
  },
  {
   "cell_type": "code",
   "execution_count": 19,
   "metadata": {
    "colab": {
     "base_uri": "https://localhost:8080/",
     "height": 36
    },
    "colab_type": "code",
    "executionInfo": {
     "elapsed": 398,
     "status": "ok",
     "timestamp": 1585511869612,
     "user": {
      "displayName": "Jay Padhya",
      "photoUrl": "https://lh3.googleusercontent.com/a-/AOh14Gj1OAEdzZAC7SF2HiesksfZADtq4e4xWMlhjovH=s64",
      "userId": "15507035533612288155"
     },
     "user_tz": 240
    },
    "id": "-I7e9F2hPMYF",
    "outputId": "9f27f34c-e3ff-4b6d-923d-a1be6d02bd80"
   },
   "outputs": [
    {
     "data": {
      "text/plain": [
       "(-8.069702869452568, 1.697337638656049e-14)"
      ]
     },
     "execution_count": 19,
     "metadata": {},
     "output_type": "execute_result"
    },
    {
     "data": {
      "application/javascript": [
       "\n",
       "            setTimeout(function() {\n",
       "                var nbb_cell_id = 19;\n",
       "                var nbb_unformatted_code = \"t, p = stats.ttest_ind(no_heart_des[\\\"max_hr\\\"], yes_heart_des[\\\"max_hr\\\"])\\n(t, p)\";\n",
       "                var nbb_formatted_code = \"t, p = stats.ttest_ind(no_heart_des[\\\"max_hr\\\"], yes_heart_des[\\\"max_hr\\\"])\\n(t, p)\";\n",
       "                var nbb_cells = Jupyter.notebook.get_cells();\n",
       "                for (var i = 0; i < nbb_cells.length; ++i) {\n",
       "                    if (nbb_cells[i].input_prompt_number == nbb_cell_id) {\n",
       "                        if (nbb_cells[i].get_text() == nbb_unformatted_code) {\n",
       "                             nbb_cells[i].set_text(nbb_formatted_code);\n",
       "                        }\n",
       "                        break;\n",
       "                    }\n",
       "                }\n",
       "            }, 500);\n",
       "            "
      ],
      "text/plain": [
       "<IPython.core.display.Javascript object>"
      ]
     },
     "metadata": {},
     "output_type": "display_data"
    }
   ],
   "source": [
    "t, p = stats.ttest_ind(no_heart_des[\"max_hr\"], yes_heart_des[\"max_hr\"])\n",
    "(t, p)"
   ]
  },
  {
   "cell_type": "markdown",
   "metadata": {
    "colab_type": "text",
    "id": "QRaBKc50PscG"
   },
   "source": [
    "<i>Since the p-value is less than 0.05, we reject the null and state that <b>The mean heart rates of both the groups is NOT the same</b>.</i>\n",
    "\n",
    "<i>Now we perform <b>post-hoc analysis</b> to analyse the mean heart rates of both the groups</i>"
   ]
  },
  {
   "cell_type": "markdown",
   "metadata": {},
   "source": [
    "95% confidence interval of the difference of means is (-24, -15).  This is indicating that the max heart rate for `no_heart_disease` is lower than `yes_heart_des` (by about 20 give or take)."
   ]
  },
  {
   "cell_type": "code",
   "execution_count": 20,
   "metadata": {},
   "outputs": [
    {
     "data": {
      "text/plain": [
       "(-24.137710597709045, -14.592724184899668)"
      ]
     },
     "execution_count": 20,
     "metadata": {},
     "output_type": "execute_result"
    },
    {
     "data": {
      "application/javascript": [
       "\n",
       "            setTimeout(function() {\n",
       "                var nbb_cell_id = 20;\n",
       "                var nbb_unformatted_code = \"get_95_ci(no_heart_des[\\\"max_hr\\\"], yes_heart_des[\\\"max_hr\\\"])\";\n",
       "                var nbb_formatted_code = \"get_95_ci(no_heart_des[\\\"max_hr\\\"], yes_heart_des[\\\"max_hr\\\"])\";\n",
       "                var nbb_cells = Jupyter.notebook.get_cells();\n",
       "                for (var i = 0; i < nbb_cells.length; ++i) {\n",
       "                    if (nbb_cells[i].input_prompt_number == nbb_cell_id) {\n",
       "                        if (nbb_cells[i].get_text() == nbb_unformatted_code) {\n",
       "                             nbb_cells[i].set_text(nbb_formatted_code);\n",
       "                        }\n",
       "                        break;\n",
       "                    }\n",
       "                }\n",
       "            }, 500);\n",
       "            "
      ],
      "text/plain": [
       "<IPython.core.display.Javascript object>"
      ]
     },
     "metadata": {},
     "output_type": "display_data"
    }
   ],
   "source": [
    "get_95_ci(no_heart_des[\"max_hr\"], yes_heart_des[\"max_hr\"])"
   ]
  },
  {
   "cell_type": "markdown",
   "metadata": {
    "colab_type": "text",
    "id": "g2YrWUmVRvkQ"
   },
   "source": [
    "<b>4. Find correlation matrix for all the variables with target. </b>"
   ]
  },
  {
   "cell_type": "code",
   "execution_count": 21,
   "metadata": {
    "colab": {
     "base_uri": "https://localhost:8080/",
     "height": 683
    },
    "colab_type": "code",
    "executionInfo": {
     "elapsed": 1852,
     "status": "ok",
     "timestamp": 1585511873400,
     "user": {
      "displayName": "Jay Padhya",
      "photoUrl": "https://lh3.googleusercontent.com/a-/AOh14Gj1OAEdzZAC7SF2HiesksfZADtq4e4xWMlhjovH=s64",
      "userId": "15507035533612288155"
     },
     "user_tz": 240
    },
    "id": "qRM75bdkQqy4",
    "outputId": "f8ea6c3d-fd01-4c70-c2d2-4b43d827d11f"
   },
   "outputs": [
    {
     "data": {
      "image/png": "[encoded data removed]",
      "text/plain": [
       "<Figure size 720x576 with 2 Axes>"
      ]
     },
     "metadata": {
      "needs_background": "light"
     },
     "output_type": "display_data"
    },
    {
     "data": {
      "application/javascript": [
       "\n",
       "            setTimeout(function() {\n",
       "                var nbb_cell_id = 21;\n",
       "                var nbb_unformatted_code = \"plt.figure(figsize=(10, 8))\\nsns.heatmap(df_heart.corr(), annot=True, vmax=1.0, vmin=-1.0)\\nplt.show()\";\n",
       "                var nbb_formatted_code = \"plt.figure(figsize=(10, 8))\\nsns.heatmap(df_heart.corr(), annot=True, vmax=1.0, vmin=-1.0)\\nplt.show()\";\n",
       "                var nbb_cells = Jupyter.notebook.get_cells();\n",
       "                for (var i = 0; i < nbb_cells.length; ++i) {\n",
       "                    if (nbb_cells[i].input_prompt_number == nbb_cell_id) {\n",
       "                        if (nbb_cells[i].get_text() == nbb_unformatted_code) {\n",
       "                             nbb_cells[i].set_text(nbb_formatted_code);\n",
       "                        }\n",
       "                        break;\n",
       "                    }\n",
       "                }\n",
       "            }, 500);\n",
       "            "
      ],
      "text/plain": [
       "<IPython.core.display.Javascript object>"
      ]
     },
     "metadata": {},
     "output_type": "display_data"
    }
   ],
   "source": [
    "plt.figure(figsize=(10, 8))\n",
    "sns.heatmap(df_heart.corr(), annot=True, vmax=1.0, vmin=-1.0)\n",
    "plt.show()"
   ]
  },
  {
   "cell_type": "code",
   "execution_count": 22,
   "metadata": {},
   "outputs": [
    {
     "data": {
      "text/html": [
       "<div>\n",
       "<style scoped>\n",
       "    .dataframe tbody tr th:only-of-type {\n",
       "        vertical-align: middle;\n",
       "    }\n",
       "\n",
       "    .dataframe tbody tr th {\n",
       "        vertical-align: top;\n",
       "    }\n",
       "\n",
       "    .dataframe thead th {\n",
       "        text-align: right;\n",
       "    }\n",
       "</style>\n",
       "<table border=\"1\" class=\"dataframe\">\n",
       "  <thead>\n",
       "    <tr style=\"text-align: right;\">\n",
       "      <th></th>\n",
       "      <th>heart_des_corr</th>\n",
       "      <th>abs_heart_des_corr</th>\n",
       "    </tr>\n",
       "  </thead>\n",
       "  <tbody>\n",
       "    <tr>\n",
       "      <th>heart_des</th>\n",
       "      <td>1.000000</td>\n",
       "      <td>1.000000</td>\n",
       "    </tr>\n",
       "    <tr>\n",
       "      <th>exang</th>\n",
       "      <td>-0.436757</td>\n",
       "      <td>0.436757</td>\n",
       "    </tr>\n",
       "    <tr>\n",
       "      <th>pain_type</th>\n",
       "      <td>0.433798</td>\n",
       "      <td>0.433798</td>\n",
       "    </tr>\n",
       "    <tr>\n",
       "      <th>st_depression</th>\n",
       "      <td>-0.430696</td>\n",
       "      <td>0.430696</td>\n",
       "    </tr>\n",
       "    <tr>\n",
       "      <th>max_hr</th>\n",
       "      <td>0.421741</td>\n",
       "      <td>0.421741</td>\n",
       "    </tr>\n",
       "    <tr>\n",
       "      <th>number_vessels</th>\n",
       "      <td>-0.391724</td>\n",
       "      <td>0.391724</td>\n",
       "    </tr>\n",
       "    <tr>\n",
       "      <th>slope</th>\n",
       "      <td>0.345877</td>\n",
       "      <td>0.345877</td>\n",
       "    </tr>\n",
       "  </tbody>\n",
       "</table>\n",
       "</div>"
      ],
      "text/plain": [
       "                heart_des_corr  abs_heart_des_corr\n",
       "heart_des             1.000000            1.000000\n",
       "exang                -0.436757            0.436757\n",
       "pain_type             0.433798            0.433798\n",
       "st_depression        -0.430696            0.430696\n",
       "max_hr                0.421741            0.421741\n",
       "number_vessels       -0.391724            0.391724\n",
       "slope                 0.345877            0.345877"
      ]
     },
     "execution_count": 22,
     "metadata": {},
     "output_type": "execute_result"
    },
    {
     "data": {
      "application/javascript": [
       "\n",
       "            setTimeout(function() {\n",
       "                var nbb_cell_id = 22;\n",
       "                var nbb_unformatted_code = \"heart_des_corrs = df_heart.corr()[[\\\"heart_des\\\"]]\\n\\n# Rename for clarity\\nheart_des_corrs.columns = [\\\"heart_des_corr\\\"]\\n\\n# Sort by abs corr to find most powerful correlations + or -\\nheart_des_corrs[\\\"abs_heart_des_corr\\\"] = heart_des_corrs[\\\"heart_des_corr\\\"].abs()\\nheart_des_corrs = heart_des_corrs.sort_values(\\\"abs_heart_des_corr\\\", ascending=False)\\n\\n# Show top\\nheart_des_corrs.head(7)\";\n",
       "                var nbb_formatted_code = \"heart_des_corrs = df_heart.corr()[[\\\"heart_des\\\"]]\\n\\n# Rename for clarity\\nheart_des_corrs.columns = [\\\"heart_des_corr\\\"]\\n\\n# Sort by abs corr to find most powerful correlations + or -\\nheart_des_corrs[\\\"abs_heart_des_corr\\\"] = heart_des_corrs[\\\"heart_des_corr\\\"].abs()\\nheart_des_corrs = heart_des_corrs.sort_values(\\\"abs_heart_des_corr\\\", ascending=False)\\n\\n# Show top\\nheart_des_corrs.head(7)\";\n",
       "                var nbb_cells = Jupyter.notebook.get_cells();\n",
       "                for (var i = 0; i < nbb_cells.length; ++i) {\n",
       "                    if (nbb_cells[i].input_prompt_number == nbb_cell_id) {\n",
       "                        if (nbb_cells[i].get_text() == nbb_unformatted_code) {\n",
       "                             nbb_cells[i].set_text(nbb_formatted_code);\n",
       "                        }\n",
       "                        break;\n",
       "                    }\n",
       "                }\n",
       "            }, 500);\n",
       "            "
      ],
      "text/plain": [
       "<IPython.core.display.Javascript object>"
      ]
     },
     "metadata": {},
     "output_type": "display_data"
    }
   ],
   "source": [
    "heart_des_corrs = df_heart.corr()[[\"heart_des\"]]\n",
    "\n",
    "# Rename for clarity\n",
    "heart_des_corrs.columns = [\"heart_des_corr\"]\n",
    "\n",
    "# Sort by abs corr to find most powerful correlations + or -\n",
    "heart_des_corrs[\"abs_heart_des_corr\"] = heart_des_corrs[\"heart_des_corr\"].abs()\n",
    "heart_des_corrs = heart_des_corrs.sort_values(\"abs_heart_des_corr\", ascending=False)\n",
    "\n",
    "# Show top\n",
    "heart_des_corrs.head(7)"
   ]
  },
  {
   "cell_type": "markdown",
   "metadata": {
    "colab_type": "text",
    "id": "Pov3fC4TeV9a"
   },
   "source": [
    "<b>5. Find Mean,Min & Max of age and plot its distribution. </b>"
   ]
  },
  {
   "cell_type": "code",
   "execution_count": 23,
   "metadata": {},
   "outputs": [
    {
     "data": {
      "text/plain": [
       "count    303.000000\n",
       "mean      54.366337\n",
       "std        9.082101\n",
       "min       29.000000\n",
       "25%       47.500000\n",
       "50%       55.000000\n",
       "75%       61.000000\n",
       "max       77.000000\n",
       "Name: age, dtype: float64"
      ]
     },
     "execution_count": 23,
     "metadata": {},
     "output_type": "execute_result"
    },
    {
     "data": {
      "application/javascript": [
       "\n",
       "            setTimeout(function() {\n",
       "                var nbb_cell_id = 23;\n",
       "                var nbb_unformatted_code = \"df_heart[\\\"age\\\"].describe()\";\n",
       "                var nbb_formatted_code = \"df_heart[\\\"age\\\"].describe()\";\n",
       "                var nbb_cells = Jupyter.notebook.get_cells();\n",
       "                for (var i = 0; i < nbb_cells.length; ++i) {\n",
       "                    if (nbb_cells[i].input_prompt_number == nbb_cell_id) {\n",
       "                        if (nbb_cells[i].get_text() == nbb_unformatted_code) {\n",
       "                             nbb_cells[i].set_text(nbb_formatted_code);\n",
       "                        }\n",
       "                        break;\n",
       "                    }\n",
       "                }\n",
       "            }, 500);\n",
       "            "
      ],
      "text/plain": [
       "<IPython.core.display.Javascript object>"
      ]
     },
     "metadata": {},
     "output_type": "display_data"
    }
   ],
   "source": [
    "df_heart[\"age\"].describe()"
   ]
  },
  {
   "cell_type": "code",
   "execution_count": 24,
   "metadata": {
    "colab": {
     "base_uri": "https://localhost:8080/",
     "height": 458
    },
    "colab_type": "code",
    "executionInfo": {
     "elapsed": 1115,
     "status": "ok",
     "timestamp": 1585511873706,
     "user": {
      "displayName": "Jay Padhya",
      "photoUrl": "https://lh3.googleusercontent.com/a-/AOh14Gj1OAEdzZAC7SF2HiesksfZADtq4e4xWMlhjovH=s64",
      "userId": "15507035533612288155"
     },
     "user_tz": 240
    },
    "id": "jQBBCDSDdcyY",
    "outputId": "fa6548d5-28a8-48cb-d52e-40397f7c5d15"
   },
   "outputs": [
    {
     "data": {
      "image/png": "[encoded data removed]",
      "text/plain": [
       "<Figure size 432x288 with 1 Axes>"
      ]
     },
     "metadata": {
      "needs_background": "light"
     },
     "output_type": "display_data"
    },
    {
     "data": {
      "application/javascript": [
       "\n",
       "            setTimeout(function() {\n",
       "                var nbb_cell_id = 24;\n",
       "                var nbb_unformatted_code = \"sns.distplot(df_heart[\\\"age\\\"])\\nplt.show()\";\n",
       "                var nbb_formatted_code = \"sns.distplot(df_heart[\\\"age\\\"])\\nplt.show()\";\n",
       "                var nbb_cells = Jupyter.notebook.get_cells();\n",
       "                for (var i = 0; i < nbb_cells.length; ++i) {\n",
       "                    if (nbb_cells[i].input_prompt_number == nbb_cell_id) {\n",
       "                        if (nbb_cells[i].get_text() == nbb_unformatted_code) {\n",
       "                             nbb_cells[i].set_text(nbb_formatted_code);\n",
       "                        }\n",
       "                        break;\n",
       "                    }\n",
       "                }\n",
       "            }, 500);\n",
       "            "
      ],
      "text/plain": [
       "<IPython.core.display.Javascript object>"
      ]
     },
     "metadata": {},
     "output_type": "display_data"
    }
   ],
   "source": [
    "sns.distplot(df_heart[\"age\"])\n",
    "plt.show()"
   ]
  },
  {
   "cell_type": "markdown",
   "metadata": {
    "colab_type": "text",
    "id": "d45Cd6Czeato"
   },
   "source": [
    "<b>6. Age and its relation to heart disease. Is a particular set age of population(say age group 40-50) prone to heart disease than the rest of population age (50+)?  </b>"
   ]
  },
  {
   "cell_type": "code",
   "execution_count": 25,
   "metadata": {},
   "outputs": [
    {
     "data": {
      "text/html": [
       "<div>\n",
       "<style scoped>\n",
       "    .dataframe tbody tr th:only-of-type {\n",
       "        vertical-align: middle;\n",
       "    }\n",
       "\n",
       "    .dataframe tbody tr th {\n",
       "        vertical-align: top;\n",
       "    }\n",
       "\n",
       "    .dataframe thead th {\n",
       "        text-align: right;\n",
       "    }\n",
       "</style>\n",
       "<table border=\"1\" class=\"dataframe\">\n",
       "  <thead>\n",
       "    <tr style=\"text-align: right;\">\n",
       "      <th></th>\n",
       "      <th>age</th>\n",
       "    </tr>\n",
       "    <tr>\n",
       "      <th>heart_des</th>\n",
       "      <th></th>\n",
       "    </tr>\n",
       "  </thead>\n",
       "  <tbody>\n",
       "    <tr>\n",
       "      <th>0</th>\n",
       "      <td>56.601449</td>\n",
       "    </tr>\n",
       "    <tr>\n",
       "      <th>1</th>\n",
       "      <td>52.496970</td>\n",
       "    </tr>\n",
       "  </tbody>\n",
       "</table>\n",
       "</div>"
      ],
      "text/plain": [
       "                 age\n",
       "heart_des           \n",
       "0          56.601449\n",
       "1          52.496970"
      ]
     },
     "execution_count": 25,
     "metadata": {},
     "output_type": "execute_result"
    },
    {
     "data": {
      "application/javascript": [
       "\n",
       "            setTimeout(function() {\n",
       "                var nbb_cell_id = 25;\n",
       "                var nbb_unformatted_code = \"df_heart[[\\\"heart_des\\\", \\\"age\\\"]].groupby(\\\"heart_des\\\").mean()\";\n",
       "                var nbb_formatted_code = \"df_heart[[\\\"heart_des\\\", \\\"age\\\"]].groupby(\\\"heart_des\\\").mean()\";\n",
       "                var nbb_cells = Jupyter.notebook.get_cells();\n",
       "                for (var i = 0; i < nbb_cells.length; ++i) {\n",
       "                    if (nbb_cells[i].input_prompt_number == nbb_cell_id) {\n",
       "                        if (nbb_cells[i].get_text() == nbb_unformatted_code) {\n",
       "                             nbb_cells[i].set_text(nbb_formatted_code);\n",
       "                        }\n",
       "                        break;\n",
       "                    }\n",
       "                }\n",
       "            }, 500);\n",
       "            "
      ],
      "text/plain": [
       "<IPython.core.display.Javascript object>"
      ]
     },
     "metadata": {},
     "output_type": "display_data"
    }
   ],
   "source": [
    "df_heart[[\"heart_des\", \"age\"]].groupby(\"heart_des\").mean()"
   ]
  },
  {
   "cell_type": "code",
   "execution_count": 26,
   "metadata": {},
   "outputs": [
    {
     "data": {
      "image/png": "[encoded data removed]",
      "text/plain": [
       "<Figure size 432x288 with 1 Axes>"
      ]
     },
     "metadata": {
      "needs_background": "light"
     },
     "output_type": "display_data"
    },
    {
     "data": {
      "application/javascript": [
       "\n",
       "            setTimeout(function() {\n",
       "                var nbb_cell_id = 26;\n",
       "                var nbb_unformatted_code = \"sns.swarmplot(x=\\\"heart_des\\\", y=\\\"age\\\", data=df_heart)\\nplt.show()\";\n",
       "                var nbb_formatted_code = \"sns.swarmplot(x=\\\"heart_des\\\", y=\\\"age\\\", data=df_heart)\\nplt.show()\";\n",
       "                var nbb_cells = Jupyter.notebook.get_cells();\n",
       "                for (var i = 0; i < nbb_cells.length; ++i) {\n",
       "                    if (nbb_cells[i].input_prompt_number == nbb_cell_id) {\n",
       "                        if (nbb_cells[i].get_text() == nbb_unformatted_code) {\n",
       "                             nbb_cells[i].set_text(nbb_formatted_code);\n",
       "                        }\n",
       "                        break;\n",
       "                    }\n",
       "                }\n",
       "            }, 500);\n",
       "            "
      ],
      "text/plain": [
       "<IPython.core.display.Javascript object>"
      ]
     },
     "metadata": {},
     "output_type": "display_data"
    }
   ],
   "source": [
    "sns.swarmplot(x=\"heart_des\", y=\"age\", data=df_heart)\n",
    "plt.show()"
   ]
  },
  {
   "cell_type": "markdown",
   "metadata": {
    "colab_type": "text",
    "id": "6hIh23vfeesu"
   },
   "source": [
    "Mean and visual seem to show heart disease is less common in older group (sets off alarms for survivor bias in mind, but I have no medical background to back any of that skepticism.\n",
    "\n",
    "This is also about to be our second statistical test in a span of like 15 cells, we should be thinking about the increase in a chance of a type 1 error. Consider correcting your alpha level for multiple testing (google \"statsmodels multiple tests\")"
   ]
  },
  {
   "cell_type": "markdown",
   "metadata": {},
   "source": [
    "Skipping shapiro, too senstive for my taste with these 'large' sample sizes from a traditional stats perspective."
   ]
  },
  {
   "cell_type": "code",
   "execution_count": 27,
   "metadata": {
    "colab": {
     "base_uri": "https://localhost:8080/",
     "height": 54
    },
    "colab_type": "code",
    "executionInfo": {
     "elapsed": 453,
     "status": "ok",
     "timestamp": 1585511878626,
     "user": {
      "displayName": "Jay Padhya",
      "photoUrl": "https://lh3.googleusercontent.com/a-/AOh14Gj1OAEdzZAC7SF2HiesksfZADtq4e4xWMlhjovH=s64",
      "userId": "15507035533612288155"
     },
     "user_tz": 240
    },
    "id": "LkB4CfHkecQJ",
    "outputId": "2c7d74eb-8c48-49fd-abf0-4f69fbeedbab"
   },
   "outputs": [
    {
     "name": "stdout",
     "output_type": "stream",
     "text": [
      "DescribeResult(nobs=165, minmax=(29, 76), mean=52.4969696969697, variance=91.21492978566148, skewness=0.11984858651650541, kurtosis=-0.6334761098775341)\n"
     ]
    },
    {
     "data": {
      "image/png": "[encoded data removed]",
      "text/plain": [
       "<Figure size 432x288 with 1 Axes>"
      ]
     },
     "metadata": {
      "needs_background": "light"
     },
     "output_type": "display_data"
    },
    {
     "name": "stdout",
     "output_type": "stream",
     "text": [
      "DescribeResult(nobs=138, minmax=(35, 77), mean=56.60144927536232, variance=63.39474240981699, skewness=-0.5425219384500629, kurtosis=0.08111820394037306)\n"
     ]
    },
    {
     "data": {
      "image/png": "[encoded data removed]",
      "text/plain": [
       "<Figure size 432x288 with 1 Axes>"
      ]
     },
     "metadata": {
      "needs_background": "light"
     },
     "output_type": "display_data"
    },
    {
     "data": {
      "application/javascript": [
       "\n",
       "            setTimeout(function() {\n",
       "                var nbb_cell_id = 27;\n",
       "                var nbb_unformatted_code = \"print(stats.describe(yes_heart_des[\\\"age\\\"]))\\nsm.qqplot(yes_heart_des[\\\"age\\\"], line=\\\"s\\\")\\nplt.show()\\n\\nprint(stats.describe(no_heart_des[\\\"age\\\"]))\\nsm.qqplot(no_heart_des[\\\"age\\\"], line=\\\"s\\\")\\nplt.show()\";\n",
       "                var nbb_formatted_code = \"print(stats.describe(yes_heart_des[\\\"age\\\"]))\\nsm.qqplot(yes_heart_des[\\\"age\\\"], line=\\\"s\\\")\\nplt.show()\\n\\nprint(stats.describe(no_heart_des[\\\"age\\\"]))\\nsm.qqplot(no_heart_des[\\\"age\\\"], line=\\\"s\\\")\\nplt.show()\";\n",
       "                var nbb_cells = Jupyter.notebook.get_cells();\n",
       "                for (var i = 0; i < nbb_cells.length; ++i) {\n",
       "                    if (nbb_cells[i].input_prompt_number == nbb_cell_id) {\n",
       "                        if (nbb_cells[i].get_text() == nbb_unformatted_code) {\n",
       "                             nbb_cells[i].set_text(nbb_formatted_code);\n",
       "                        }\n",
       "                        break;\n",
       "                    }\n",
       "                }\n",
       "            }, 500);\n",
       "            "
      ],
      "text/plain": [
       "<IPython.core.display.Javascript object>"
      ]
     },
     "metadata": {},
     "output_type": "display_data"
    }
   ],
   "source": [
    "print(stats.describe(yes_heart_des[\"age\"]))\n",
    "sm.qqplot(yes_heart_des[\"age\"], line=\"s\")\n",
    "plt.show()\n",
    "\n",
    "print(stats.describe(no_heart_des[\"age\"]))\n",
    "sm.qqplot(no_heart_des[\"age\"], line=\"s\")\n",
    "plt.show()"
   ]
  },
  {
   "cell_type": "code",
   "execution_count": 28,
   "metadata": {
    "colab": {
     "base_uri": "https://localhost:8080/",
     "height": 36
    },
    "colab_type": "code",
    "executionInfo": {
     "elapsed": 523,
     "status": "ok",
     "timestamp": 1585511880317,
     "user": {
      "displayName": "Jay Padhya",
      "photoUrl": "https://lh3.googleusercontent.com/a-/AOh14Gj1OAEdzZAC7SF2HiesksfZADtq4e4xWMlhjovH=s64",
      "userId": "15507035533612288155"
     },
     "user_tz": 240
    },
    "id": "C7F6n-cwe32m",
    "outputId": "ac520d9d-a3d7-42e2-fe2d-889944464906"
   },
   "outputs": [
    {
     "data": {
      "text/plain": [
       "(-4.014560975148874, 7.524801303442373e-05)"
      ]
     },
     "execution_count": 28,
     "metadata": {},
     "output_type": "execute_result"
    },
    {
     "data": {
      "application/javascript": [
       "\n",
       "            setTimeout(function() {\n",
       "                var nbb_cell_id = 28;\n",
       "                var nbb_unformatted_code = \"t, p = stats.ttest_ind(yes_heart_des[\\\"age\\\"], no_heart_des[\\\"age\\\"])\\n(t, p)\";\n",
       "                var nbb_formatted_code = \"t, p = stats.ttest_ind(yes_heart_des[\\\"age\\\"], no_heart_des[\\\"age\\\"])\\n(t, p)\";\n",
       "                var nbb_cells = Jupyter.notebook.get_cells();\n",
       "                for (var i = 0; i < nbb_cells.length; ++i) {\n",
       "                    if (nbb_cells[i].input_prompt_number == nbb_cell_id) {\n",
       "                        if (nbb_cells[i].get_text() == nbb_unformatted_code) {\n",
       "                             nbb_cells[i].set_text(nbb_formatted_code);\n",
       "                        }\n",
       "                        break;\n",
       "                    }\n",
       "                }\n",
       "            }, 500);\n",
       "            "
      ],
      "text/plain": [
       "<IPython.core.display.Javascript object>"
      ]
     },
     "metadata": {},
     "output_type": "display_data"
    }
   ],
   "source": [
    "t, p = stats.ttest_ind(yes_heart_des[\"age\"], no_heart_des[\"age\"])\n",
    "(t, p)"
   ]
  },
  {
   "cell_type": "markdown",
   "metadata": {
    "colab_type": "text",
    "id": "OOgef2aNfAWT"
   },
   "source": [
    "<i>Since the p-value is less than 0.05, we reject the null and state that <b>The mean age of both the groups is NOT the same</b>.</i>\n",
    "\n",
    "<i>Now we perform <b>post-hoc analysis</b> to analyse the mean age of both the groups</i>"
   ]
  },
  {
   "cell_type": "code",
   "execution_count": 29,
   "metadata": {
    "colab": {
     "base_uri": "https://localhost:8080/",
     "height": 339
    },
    "colab_type": "code",
    "executionInfo": {
     "elapsed": 821,
     "status": "ok",
     "timestamp": 1585511881663,
     "user": {
      "displayName": "Jay Padhya",
      "photoUrl": "https://lh3.googleusercontent.com/a-/AOh14Gj1OAEdzZAC7SF2HiesksfZADtq4e4xWMlhjovH=s64",
      "userId": "15507035533612288155"
     },
     "user_tz": 240
    },
    "id": "Pt7h2azIe-dv",
    "outputId": "7c722e78-c486-4af7-d909-a62f5503ac24"
   },
   "outputs": [
    {
     "data": {
      "text/plain": [
       "(-6.076399282361516, -2.132559874423725)"
      ]
     },
     "execution_count": 29,
     "metadata": {},
     "output_type": "execute_result"
    },
    {
     "data": {
      "application/javascript": [
       "\n",
       "            setTimeout(function() {\n",
       "                var nbb_cell_id = 29;\n",
       "                var nbb_unformatted_code = \"get_95_ci(yes_heart_des[\\\"age\\\"], no_heart_des[\\\"age\\\"])\";\n",
       "                var nbb_formatted_code = \"get_95_ci(yes_heart_des[\\\"age\\\"], no_heart_des[\\\"age\\\"])\";\n",
       "                var nbb_cells = Jupyter.notebook.get_cells();\n",
       "                for (var i = 0; i < nbb_cells.length; ++i) {\n",
       "                    if (nbb_cells[i].input_prompt_number == nbb_cell_id) {\n",
       "                        if (nbb_cells[i].get_text() == nbb_unformatted_code) {\n",
       "                             nbb_cells[i].set_text(nbb_formatted_code);\n",
       "                        }\n",
       "                        break;\n",
       "                    }\n",
       "                }\n",
       "            }, 500);\n",
       "            "
      ],
      "text/plain": [
       "<IPython.core.display.Javascript object>"
      ]
     },
     "metadata": {},
     "output_type": "display_data"
    }
   ],
   "source": [
    "get_95_ci(yes_heart_des[\"age\"], no_heart_des[\"age\"])"
   ]
  },
  {
   "cell_type": "markdown",
   "metadata": {
    "colab_type": "text",
    "id": "LM9dJm1JwciU"
   },
   "source": [
    "To view the effects of both `max_hr` and `age` on `heart_des` at once, include in the same model.  The `age` variable is not a significant predictor when included in the same model with `max_hr`."
   ]
  },
  {
   "cell_type": "code",
   "execution_count": 30,
   "metadata": {
    "colab": {
     "base_uri": "https://localhost:8080/",
     "height": 352
    },
    "colab_type": "code",
    "executionInfo": {
     "elapsed": 489,
     "status": "ok",
     "timestamp": 1585511882518,
     "user": {
      "displayName": "Jay Padhya",
      "photoUrl": "https://lh3.googleusercontent.com/a-/AOh14Gj1OAEdzZAC7SF2HiesksfZADtq4e4xWMlhjovH=s64",
      "userId": "15507035533612288155"
     },
     "user_tz": 240
    },
    "id": "4Tb9u4w8tLVp",
    "outputId": "72ad7457-99df-4a90-aa4e-f1b740b5a44e"
   },
   "outputs": [
    {
     "name": "stdout",
     "output_type": "stream",
     "text": [
      "Optimization terminated successfully.\n",
      "         Current function value: 0.590193\n",
      "         Iterations 5\n"
     ]
    },
    {
     "name": "stderr",
     "output_type": "stream",
     "text": [
      "/usr/local/lib/python3.7/site-packages/numpy/core/fromnumeric.py:2542: FutureWarning: Method .ptp is deprecated and will be removed in a future version. Use numpy.ptp instead.\n",
      "  return ptp(axis=axis, out=out, **kwargs)\n"
     ]
    },
    {
     "data": {
      "text/html": [
       "<table class=\"simpletable\">\n",
       "<caption>Logit Regression Results</caption>\n",
       "<tr>\n",
       "  <th>Dep. Variable:</th>       <td>heart_des</td>    <th>  No. Observations:  </th>  <td>   303</td>  \n",
       "</tr>\n",
       "<tr>\n",
       "  <th>Model:</th>                 <td>Logit</td>      <th>  Df Residuals:      </th>  <td>   300</td>  \n",
       "</tr>\n",
       "<tr>\n",
       "  <th>Method:</th>                 <td>MLE</td>       <th>  Df Model:          </th>  <td>     2</td>  \n",
       "</tr>\n",
       "<tr>\n",
       "  <th>Date:</th>            <td>Thu, 16 Jul 2020</td> <th>  Pseudo R-squ.:     </th>  <td>0.1436</td>  \n",
       "</tr>\n",
       "<tr>\n",
       "  <th>Time:</th>                <td>21:02:16</td>     <th>  Log-Likelihood:    </th> <td> -178.83</td> \n",
       "</tr>\n",
       "<tr>\n",
       "  <th>converged:</th>             <td>True</td>       <th>  LL-Null:           </th> <td> -208.82</td> \n",
       "</tr>\n",
       "<tr>\n",
       "  <th>Covariance Type:</th>     <td>nonrobust</td>    <th>  LLR p-value:       </th> <td>9.448e-14</td>\n",
       "</tr>\n",
       "</table>\n",
       "<table class=\"simpletable\">\n",
       "<tr>\n",
       "     <td></td>       <th>coef</th>     <th>std err</th>      <th>z</th>      <th>P>|z|</th>  <th>[0.025</th>    <th>0.975]</th>  \n",
       "</tr>\n",
       "<tr>\n",
       "  <th>const</th>  <td>   -4.9264</td> <td>    1.504</td> <td>   -3.276</td> <td> 0.001</td> <td>   -7.874</td> <td>   -1.979</td>\n",
       "</tr>\n",
       "<tr>\n",
       "  <th>max_hr</th> <td>    0.0413</td> <td>    0.007</td> <td>    6.032</td> <td> 0.000</td> <td>    0.028</td> <td>    0.055</td>\n",
       "</tr>\n",
       "<tr>\n",
       "  <th>age</th>    <td>   -0.0194</td> <td>    0.015</td> <td>   -1.262</td> <td> 0.207</td> <td>   -0.049</td> <td>    0.011</td>\n",
       "</tr>\n",
       "</table>"
      ],
      "text/plain": [
       "<class 'statsmodels.iolib.summary.Summary'>\n",
       "\"\"\"\n",
       "                           Logit Regression Results                           \n",
       "==============================================================================\n",
       "Dep. Variable:              heart_des   No. Observations:                  303\n",
       "Model:                          Logit   Df Residuals:                      300\n",
       "Method:                           MLE   Df Model:                            2\n",
       "Date:                Thu, 16 Jul 2020   Pseudo R-squ.:                  0.1436\n",
       "Time:                        21:02:16   Log-Likelihood:                -178.83\n",
       "converged:                       True   LL-Null:                       -208.82\n",
       "Covariance Type:            nonrobust   LLR p-value:                 9.448e-14\n",
       "==============================================================================\n",
       "                 coef    std err          z      P>|z|      [0.025      0.975]\n",
       "------------------------------------------------------------------------------\n",
       "const         -4.9264      1.504     -3.276      0.001      -7.874      -1.979\n",
       "max_hr         0.0413      0.007      6.032      0.000       0.028       0.055\n",
       "age           -0.0194      0.015     -1.262      0.207      -0.049       0.011\n",
       "==============================================================================\n",
       "\"\"\""
      ]
     },
     "execution_count": 30,
     "metadata": {},
     "output_type": "execute_result"
    },
    {
     "data": {
      "application/javascript": [
       "\n",
       "            setTimeout(function() {\n",
       "                var nbb_cell_id = 30;\n",
       "                var nbb_unformatted_code = \"X = df_heart[[\\\"max_hr\\\", \\\"age\\\"]]\\ny = df_heart[\\\"heart_des\\\"]\\n\\nX_const = sm.add_constant(X)\\nlogit_results = sm.Logit(y, X_const).fit()\\n\\nlogit_results.summary()\";\n",
       "                var nbb_formatted_code = \"X = df_heart[[\\\"max_hr\\\", \\\"age\\\"]]\\ny = df_heart[\\\"heart_des\\\"]\\n\\nX_const = sm.add_constant(X)\\nlogit_results = sm.Logit(y, X_const).fit()\\n\\nlogit_results.summary()\";\n",
       "                var nbb_cells = Jupyter.notebook.get_cells();\n",
       "                for (var i = 0; i < nbb_cells.length; ++i) {\n",
       "                    if (nbb_cells[i].input_prompt_number == nbb_cell_id) {\n",
       "                        if (nbb_cells[i].get_text() == nbb_unformatted_code) {\n",
       "                             nbb_cells[i].set_text(nbb_formatted_code);\n",
       "                        }\n",
       "                        break;\n",
       "                    }\n",
       "                }\n",
       "            }, 500);\n",
       "            "
      ],
      "text/plain": [
       "<IPython.core.display.Javascript object>"
      ]
     },
     "metadata": {},
     "output_type": "display_data"
    }
   ],
   "source": [
    "X = df_heart[[\"max_hr\", \"age\"]]\n",
    "y = df_heart[\"heart_des\"]\n",
    "\n",
    "X_const = sm.add_constant(X)\n",
    "logit_results = sm.Logit(y, X_const).fit()\n",
    "\n",
    "logit_results.summary()"
   ]
  },
  {
   "cell_type": "markdown",
   "metadata": {
    "colab_type": "text",
    "id": "nVLDfDYfwg_U"
   },
   "source": [
    "[Good quick example of interpreting logistic regression coefficients.](https://stats.stackexchange.com/a/21083/102646)"
   ]
  },
  {
   "cell_type": "markdown",
   "metadata": {
    "colab_type": "text",
    "id": "hUrut_mnxF_E"
   },
   "source": [
    "<b>7. Plot chest pain type pie chart.</b> ...No"
   ]
  },
  {
   "cell_type": "code",
   "execution_count": 31,
   "metadata": {},
   "outputs": [
    {
     "data": {
      "image/png": "[encoded data removed]",
      "text/plain": [
       "<Figure size 432x288 with 1 Axes>"
      ]
     },
     "metadata": {
      "needs_background": "light"
     },
     "output_type": "display_data"
    },
    {
     "data": {
      "application/javascript": [
       "\n",
       "            setTimeout(function() {\n",
       "                var nbb_cell_id = 31;\n",
       "                var nbb_unformatted_code = \"plot_df = df_heart[\\\"pain_type\\\"].value_counts()\\nplot_df = plot_df.sort_values(ascending=False)\\nplot_df = plot_df.reset_index()\\nplot_df.columns = [\\\"pain_type\\\", \\\"count\\\"]\\n\\npain_type_map = {0: \\\"Type 1\\\", 1: \\\"Type 2\\\", 2: \\\"Type 3\\\", 3: \\\"Type 4\\\"}\\nplot_df[\\\"pain_type\\\"] = plot_df[\\\"pain_type\\\"].replace(pain_type_map)\\n\\n# set order to be ordered by count (we sorted by count above)\\nsns.barplot(x=\\\"pain_type\\\", y=\\\"count\\\", order=plot_df[\\\"pain_type\\\"], data=plot_df)\\nplt.show()\";\n",
       "                var nbb_formatted_code = \"plot_df = df_heart[\\\"pain_type\\\"].value_counts()\\nplot_df = plot_df.sort_values(ascending=False)\\nplot_df = plot_df.reset_index()\\nplot_df.columns = [\\\"pain_type\\\", \\\"count\\\"]\\n\\npain_type_map = {0: \\\"Type 1\\\", 1: \\\"Type 2\\\", 2: \\\"Type 3\\\", 3: \\\"Type 4\\\"}\\nplot_df[\\\"pain_type\\\"] = plot_df[\\\"pain_type\\\"].replace(pain_type_map)\\n\\n# set order to be ordered by count (we sorted by count above)\\nsns.barplot(x=\\\"pain_type\\\", y=\\\"count\\\", order=plot_df[\\\"pain_type\\\"], data=plot_df)\\nplt.show()\";\n",
       "                var nbb_cells = Jupyter.notebook.get_cells();\n",
       "                for (var i = 0; i < nbb_cells.length; ++i) {\n",
       "                    if (nbb_cells[i].input_prompt_number == nbb_cell_id) {\n",
       "                        if (nbb_cells[i].get_text() == nbb_unformatted_code) {\n",
       "                             nbb_cells[i].set_text(nbb_formatted_code);\n",
       "                        }\n",
       "                        break;\n",
       "                    }\n",
       "                }\n",
       "            }, 500);\n",
       "            "
      ],
      "text/plain": [
       "<IPython.core.display.Javascript object>"
      ]
     },
     "metadata": {},
     "output_type": "display_data"
    }
   ],
   "source": [
    "plot_df = df_heart[\"pain_type\"].value_counts()\n",
    "plot_df = plot_df.sort_values(ascending=False)\n",
    "plot_df = plot_df.reset_index()\n",
    "plot_df.columns = [\"pain_type\", \"count\"]\n",
    "\n",
    "pain_type_map = {0: \"Type 1\", 1: \"Type 2\", 2: \"Type 3\", 3: \"Type 4\"}\n",
    "plot_df[\"pain_type\"] = plot_df[\"pain_type\"].replace(pain_type_map)\n",
    "\n",
    "# set order to be ordered by count (we sorted by count above)\n",
    "sns.barplot(x=\"pain_type\", y=\"count\", order=plot_df[\"pain_type\"], data=plot_df)\n",
    "plt.show()"
   ]
  },
  {
   "cell_type": "markdown",
   "metadata": {
    "colab_type": "text",
    "id": "a6kjvTY3xcEa"
   },
   "source": [
    "<b>People suffer Type-1 Chest pain more than other types </b>"
   ]
  },
  {
   "cell_type": "markdown",
   "metadata": {
    "colab_type": "text",
    "id": "xuOvSokjxv1d"
   },
   "source": [
    "<b>8. What is the max heart rate achieved in non heart disease patients? \n",
    "</b>"
   ]
  },
  {
   "cell_type": "code",
   "execution_count": 32,
   "metadata": {
    "colab": {
     "base_uri": "https://localhost:8080/",
     "height": 36
    },
    "colab_type": "code",
    "executionInfo": {
     "elapsed": 597,
     "status": "ok",
     "timestamp": 1585511885362,
     "user": {
      "displayName": "Jay Padhya",
      "photoUrl": "https://lh3.googleusercontent.com/a-/AOh14Gj1OAEdzZAC7SF2HiesksfZADtq4e4xWMlhjovH=s64",
      "userId": "15507035533612288155"
     },
     "user_tz": 240
    },
    "id": "5LdLg-RzxEw8",
    "outputId": "396a4745-35a8-4b9f-e3ab-a1c502ca830f"
   },
   "outputs": [
    {
     "data": {
      "text/plain": [
       "195"
      ]
     },
     "execution_count": 32,
     "metadata": {},
     "output_type": "execute_result"
    },
    {
     "data": {
      "application/javascript": [
       "\n",
       "            setTimeout(function() {\n",
       "                var nbb_cell_id = 32;\n",
       "                var nbb_unformatted_code = \"no_heart_des[\\\"max_hr\\\"].max()\";\n",
       "                var nbb_formatted_code = \"no_heart_des[\\\"max_hr\\\"].max()\";\n",
       "                var nbb_cells = Jupyter.notebook.get_cells();\n",
       "                for (var i = 0; i < nbb_cells.length; ++i) {\n",
       "                    if (nbb_cells[i].input_prompt_number == nbb_cell_id) {\n",
       "                        if (nbb_cells[i].get_text() == nbb_unformatted_code) {\n",
       "                             nbb_cells[i].set_text(nbb_formatted_code);\n",
       "                        }\n",
       "                        break;\n",
       "                    }\n",
       "                }\n",
       "            }, 500);\n",
       "            "
      ],
      "text/plain": [
       "<IPython.core.display.Javascript object>"
      ]
     },
     "metadata": {},
     "output_type": "display_data"
    }
   ],
   "source": [
    "no_heart_des[\"max_hr\"].max()"
   ]
  },
  {
   "cell_type": "markdown",
   "metadata": {
    "colab_type": "text",
    "id": "G3vj5ISX9k7o"
   },
   "source": [
    "<h1><b>CHECK POINT 2 : Testing various ML Models </b></h1>\n",
    "\n",
    "\n",
    "<h2><b>Implement different MLs and decide which model fits best</b></h2>\n"
   ]
  },
  {
   "cell_type": "code",
   "execution_count": 33,
   "metadata": {
    "colab": {},
    "colab_type": "code",
    "id": "hSrXmTpdLb9y"
   },
   "outputs": [
    {
     "data": {
      "application/javascript": [
       "\n",
       "            setTimeout(function() {\n",
       "                var nbb_cell_id = 33;\n",
       "                var nbb_unformatted_code = \"X = df_heart.drop(columns=\\\"heart_des\\\")\\ny = df_heart[\\\"heart_des\\\"]\\n\\nX_train, X_test, y_train, y_test = train_test_split(\\n    X, y, test_size=0.25, random_state=42\\n)\";\n",
       "                var nbb_formatted_code = \"X = df_heart.drop(columns=\\\"heart_des\\\")\\ny = df_heart[\\\"heart_des\\\"]\\n\\nX_train, X_test, y_train, y_test = train_test_split(\\n    X, y, test_size=0.25, random_state=42\\n)\";\n",
       "                var nbb_cells = Jupyter.notebook.get_cells();\n",
       "                for (var i = 0; i < nbb_cells.length; ++i) {\n",
       "                    if (nbb_cells[i].input_prompt_number == nbb_cell_id) {\n",
       "                        if (nbb_cells[i].get_text() == nbb_unformatted_code) {\n",
       "                             nbb_cells[i].set_text(nbb_formatted_code);\n",
       "                        }\n",
       "                        break;\n",
       "                    }\n",
       "                }\n",
       "            }, 500);\n",
       "            "
      ],
      "text/plain": [
       "<IPython.core.display.Javascript object>"
      ]
     },
     "metadata": {},
     "output_type": "display_data"
    }
   ],
   "source": [
    "X = df_heart.drop(columns=\"heart_des\")\n",
    "y = df_heart[\"heart_des\"]\n",
    "\n",
    "X_train, X_test, y_train, y_test = train_test_split(\n",
    "    X, y, test_size=0.25, random_state=42\n",
    ")"
   ]
  },
  {
   "cell_type": "code",
   "execution_count": 34,
   "metadata": {},
   "outputs": [
    {
     "name": "stdout",
     "output_type": "stream",
     "text": [
      "VIF results\n",
      "-------------------------------\n",
      "const             201.286970\n",
      "age                 1.475669\n",
      "sex                 1.246904\n",
      "pain_type           1.287448\n",
      "rest_bp             1.170844\n",
      "chol                1.202035\n",
      "fast_bp             1.127679\n",
      "test_ecg            1.056053\n",
      "max_hr              1.588077\n",
      "exang               1.427913\n",
      "st_depression       1.724941\n",
      "slope               1.547418\n",
      "number_vessels      1.222578\n",
      "thal                1.158137\n",
      "dtype: float64\n",
      "-------------------------------\n",
      "\n"
     ]
    },
    {
     "data": {
      "application/javascript": [
       "\n",
       "            setTimeout(function() {\n",
       "                var nbb_cell_id = 34;\n",
       "                var nbb_unformatted_code = \"print_vif(X_train)\";\n",
       "                var nbb_formatted_code = \"print_vif(X_train)\";\n",
       "                var nbb_cells = Jupyter.notebook.get_cells();\n",
       "                for (var i = 0; i < nbb_cells.length; ++i) {\n",
       "                    if (nbb_cells[i].input_prompt_number == nbb_cell_id) {\n",
       "                        if (nbb_cells[i].get_text() == nbb_unformatted_code) {\n",
       "                             nbb_cells[i].set_text(nbb_formatted_code);\n",
       "                        }\n",
       "                        break;\n",
       "                    }\n",
       "                }\n",
       "            }, 500);\n",
       "            "
      ],
      "text/plain": [
       "<IPython.core.display.Javascript object>"
      ]
     },
     "metadata": {},
     "output_type": "display_data"
    }
   ],
   "source": [
    "print_vif(X_train)"
   ]
  },
  {
   "cell_type": "code",
   "execution_count": 35,
   "metadata": {},
   "outputs": [
    {
     "data": {
      "application/javascript": [
       "\n",
       "            setTimeout(function() {\n",
       "                var nbb_cell_id = 35;\n",
       "                var nbb_unformatted_code = \"param_grid = [\\n    {\\n        # Compare if scaling is better than doing nothing\\n        \\\"preprocessing\\\": [StandardScaler(), \\\"passthrough\\\"],\\n        # Compare Logistic Regression vs SVM (both use C param)\\n        \\\"clf\\\": [LogisticRegression(), SVC()],\\n        \\\"clf__C\\\": [1, 10, 100, 1000],\\n    },\\n    {\\n        \\\"preprocessing\\\": [StandardScaler(), \\\"passthrough\\\"],\\n        \\\"clf\\\": [RandomForestClassifier()],\\n        \\\"clf__n_estimators\\\": [20, 50, 100],\\n        \\\"clf__max_depth\\\": [3, 6, 9],\\n        \\\"clf__n_estimators\\\": [20, 50, 100],\\n        \\\"clf__max_features\\\": [0.5, 0.75, 1.0],\\n    },\\n]\";\n",
       "                var nbb_formatted_code = \"param_grid = [\\n    {\\n        # Compare if scaling is better than doing nothing\\n        \\\"preprocessing\\\": [StandardScaler(), \\\"passthrough\\\"],\\n        # Compare Logistic Regression vs SVM (both use C param)\\n        \\\"clf\\\": [LogisticRegression(), SVC()],\\n        \\\"clf__C\\\": [1, 10, 100, 1000],\\n    },\\n    {\\n        \\\"preprocessing\\\": [StandardScaler(), \\\"passthrough\\\"],\\n        \\\"clf\\\": [RandomForestClassifier()],\\n        \\\"clf__n_estimators\\\": [20, 50, 100],\\n        \\\"clf__max_depth\\\": [3, 6, 9],\\n        \\\"clf__n_estimators\\\": [20, 50, 100],\\n        \\\"clf__max_features\\\": [0.5, 0.75, 1.0],\\n    },\\n]\";\n",
       "                var nbb_cells = Jupyter.notebook.get_cells();\n",
       "                for (var i = 0; i < nbb_cells.length; ++i) {\n",
       "                    if (nbb_cells[i].input_prompt_number == nbb_cell_id) {\n",
       "                        if (nbb_cells[i].get_text() == nbb_unformatted_code) {\n",
       "                             nbb_cells[i].set_text(nbb_formatted_code);\n",
       "                        }\n",
       "                        break;\n",
       "                    }\n",
       "                }\n",
       "            }, 500);\n",
       "            "
      ],
      "text/plain": [
       "<IPython.core.display.Javascript object>"
      ]
     },
     "metadata": {},
     "output_type": "display_data"
    }
   ],
   "source": [
    "param_grid = [\n",
    "    {\n",
    "        # Compare if scaling is better than doing nothing\n",
    "        \"preprocessing\": [StandardScaler(), \"passthrough\"],\n",
    "        # Compare Logistic Regression vs SVM (both use C param)\n",
    "        \"clf\": [LogisticRegression(), SVC()],\n",
    "        \"clf__C\": [1, 10, 100, 1000],\n",
    "    },\n",
    "    {\n",
    "        \"preprocessing\": [StandardScaler(), \"passthrough\"],\n",
    "        \"clf\": [RandomForestClassifier()],\n",
    "        \"clf__n_estimators\": [20, 50, 100],\n",
    "        \"clf__max_depth\": [3, 6, 9],\n",
    "        \"clf__n_estimators\": [20, 50, 100],\n",
    "        \"clf__max_features\": [0.5, 0.75, 1.0],\n",
    "    },\n",
    "]"
   ]
  },
  {
   "cell_type": "code",
   "execution_count": 36,
   "metadata": {},
   "outputs": [
    {
     "data": {
      "application/javascript": [
       "\n",
       "            setTimeout(function() {\n",
       "                var nbb_cell_id = 36;\n",
       "                var nbb_unformatted_code = \"# Gonna have the param grid select stuff for us\\n# LogisticRegression is pretty much a placeholder here, the param grid is gonna swap it out in grid search\\npipeline = Pipeline([(\\\"preprocessing\\\", \\\"passthrough\\\"), (\\\"clf\\\", LogisticRegression())])\";\n",
       "                var nbb_formatted_code = \"# Gonna have the param grid select stuff for us\\n# LogisticRegression is pretty much a placeholder here, the param grid is gonna swap it out in grid search\\npipeline = Pipeline([(\\\"preprocessing\\\", \\\"passthrough\\\"), (\\\"clf\\\", LogisticRegression())])\";\n",
       "                var nbb_cells = Jupyter.notebook.get_cells();\n",
       "                for (var i = 0; i < nbb_cells.length; ++i) {\n",
       "                    if (nbb_cells[i].input_prompt_number == nbb_cell_id) {\n",
       "                        if (nbb_cells[i].get_text() == nbb_unformatted_code) {\n",
       "                             nbb_cells[i].set_text(nbb_formatted_code);\n",
       "                        }\n",
       "                        break;\n",
       "                    }\n",
       "                }\n",
       "            }, 500);\n",
       "            "
      ],
      "text/plain": [
       "<IPython.core.display.Javascript object>"
      ]
     },
     "metadata": {},
     "output_type": "display_data"
    }
   ],
   "source": [
    "# Gonna have the param grid select stuff for us\n",
    "# LogisticRegression is pretty much a placeholder here, the param grid is gonna swap it out in grid search\n",
    "pipeline = Pipeline([(\"preprocessing\", \"passthrough\"), (\"clf\", LogisticRegression())])"
   ]
  },
  {
   "cell_type": "code",
   "execution_count": 37,
   "metadata": {},
   "outputs": [
    {
     "name": "stdout",
     "output_type": "stream",
     "text": [
      "Fitting 5 folds for each of 70 candidates, totalling 350 fits\n"
     ]
    },
    {
     "name": "stderr",
     "output_type": "stream",
     "text": [
      "[Parallel(n_jobs=1)]: Using backend SequentialBackend with 1 concurrent workers.\n",
      "[Parallel(n_jobs=1)]: Done 350 out of 350 | elapsed:   19.2s finished\n"
     ]
    },
    {
     "data": {
      "text/plain": [
       "{'clf': RandomForestClassifier(bootstrap=True, ccp_alpha=0.0, class_weight=None,\n",
       "                        criterion='gini', max_depth=3, max_features=0.5,\n",
       "                        max_leaf_nodes=None, max_samples=None,\n",
       "                        min_impurity_decrease=0.0, min_impurity_split=None,\n",
       "                        min_samples_leaf=1, min_samples_split=2,\n",
       "                        min_weight_fraction_leaf=0.0, n_estimators=50,\n",
       "                        n_jobs=None, oob_score=False, random_state=None,\n",
       "                        verbose=0, warm_start=False),\n",
       " 'clf__max_depth': 3,\n",
       " 'clf__max_features': 0.5,\n",
       " 'clf__n_estimators': 50,\n",
       " 'preprocessing': 'passthrough'}"
      ]
     },
     "execution_count": 37,
     "metadata": {},
     "output_type": "execute_result"
    },
    {
     "data": {
      "application/javascript": [
       "\n",
       "            setTimeout(function() {\n",
       "                var nbb_cell_id = 37;\n",
       "                var nbb_unformatted_code = \"pipeline_cv = GridSearchCV(pipeline, param_grid, verbose=1)\\n\\n# Silencing ConvergenceWarnings.. dangerous in case a different important warning comes up\\nwith warnings.catch_warnings():\\n    warnings.simplefilter(\\\"ignore\\\")\\n    pipeline_cv.fit(X_train, y_train)\\n    \\n\\nmodel = pipeline_cv.best_estimator_\\npipeline_cv.best_params_\";\n",
       "                var nbb_formatted_code = \"pipeline_cv = GridSearchCV(pipeline, param_grid, verbose=1)\\n\\n# Silencing ConvergenceWarnings.. dangerous in case a different important warning comes up\\nwith warnings.catch_warnings():\\n    warnings.simplefilter(\\\"ignore\\\")\\n    pipeline_cv.fit(X_train, y_train)\\n\\n\\nmodel = pipeline_cv.best_estimator_\\npipeline_cv.best_params_\";\n",
       "                var nbb_cells = Jupyter.notebook.get_cells();\n",
       "                for (var i = 0; i < nbb_cells.length; ++i) {\n",
       "                    if (nbb_cells[i].input_prompt_number == nbb_cell_id) {\n",
       "                        if (nbb_cells[i].get_text() == nbb_unformatted_code) {\n",
       "                             nbb_cells[i].set_text(nbb_formatted_code);\n",
       "                        }\n",
       "                        break;\n",
       "                    }\n",
       "                }\n",
       "            }, 500);\n",
       "            "
      ],
      "text/plain": [
       "<IPython.core.display.Javascript object>"
      ]
     },
     "metadata": {},
     "output_type": "display_data"
    }
   ],
   "source": [
    "pipeline_cv = GridSearchCV(pipeline, param_grid, verbose=1)\n",
    "\n",
    "# Silencing ConvergenceWarnings.. dangerous in case a different important warning comes up\n",
    "with warnings.catch_warnings():\n",
    "    warnings.simplefilter(\"ignore\")\n",
    "    pipeline_cv.fit(X_train, y_train)\n",
    "\n",
    "\n",
    "model = pipeline_cv.best_estimator_\n",
    "pipeline_cv.best_params_"
   ]
  },
  {
   "cell_type": "code",
   "execution_count": 38,
   "metadata": {},
   "outputs": [
    {
     "data": {
      "text/html": [
       "<div>\n",
       "<style scoped>\n",
       "    .dataframe tbody tr th:only-of-type {\n",
       "        vertical-align: middle;\n",
       "    }\n",
       "\n",
       "    .dataframe tbody tr th {\n",
       "        vertical-align: top;\n",
       "    }\n",
       "\n",
       "    .dataframe thead th {\n",
       "        text-align: right;\n",
       "    }\n",
       "</style>\n",
       "<table border=\"1\" class=\"dataframe\">\n",
       "  <thead>\n",
       "    <tr style=\"text-align: right;\">\n",
       "      <th></th>\n",
       "      <th>Predicted 0</th>\n",
       "      <th>Predicted 1</th>\n",
       "    </tr>\n",
       "  </thead>\n",
       "  <tbody>\n",
       "    <tr>\n",
       "      <th>Actual 0</th>\n",
       "      <td>27</td>\n",
       "      <td>8</td>\n",
       "    </tr>\n",
       "    <tr>\n",
       "      <th>Actual 1</th>\n",
       "      <td>5</td>\n",
       "      <td>36</td>\n",
       "    </tr>\n",
       "  </tbody>\n",
       "</table>\n",
       "</div>"
      ],
      "text/plain": [
       "          Predicted 0  Predicted 1\n",
       "Actual 0           27            8\n",
       "Actual 1            5           36"
      ]
     },
     "metadata": {},
     "output_type": "display_data"
    },
    {
     "name": "stdout",
     "output_type": "stream",
     "text": [
      "              precision    recall  f1-score   support\n",
      "\n",
      "           0       0.84      0.77      0.81        35\n",
      "           1       0.82      0.88      0.85        41\n",
      "\n",
      "    accuracy                           0.83        76\n",
      "   macro avg       0.83      0.82      0.83        76\n",
      "weighted avg       0.83      0.83      0.83        76\n",
      "\n"
     ]
    },
    {
     "data": {
      "application/javascript": [
       "\n",
       "            setTimeout(function() {\n",
       "                var nbb_cell_id = 38;\n",
       "                var nbb_unformatted_code = \"y_pred = model.predict(X_test)\\n\\nconfusion_mat = confusion_matrix(y_test, y_pred)\\nconfusion_df = pd.DataFrame(\\n    confusion_mat,\\n    columns=[\\\"Predicted 0\\\", \\\"Predicted 1\\\"],\\n    index=[\\\"Actual 0\\\", \\\"Actual 1\\\"],\\n)\\n\\ndisplay(confusion_df)\\n\\nprint(classification_report(y_test, y_pred))\";\n",
       "                var nbb_formatted_code = \"y_pred = model.predict(X_test)\\n\\nconfusion_mat = confusion_matrix(y_test, y_pred)\\nconfusion_df = pd.DataFrame(\\n    confusion_mat,\\n    columns=[\\\"Predicted 0\\\", \\\"Predicted 1\\\"],\\n    index=[\\\"Actual 0\\\", \\\"Actual 1\\\"],\\n)\\n\\ndisplay(confusion_df)\\n\\nprint(classification_report(y_test, y_pred))\";\n",
       "                var nbb_cells = Jupyter.notebook.get_cells();\n",
       "                for (var i = 0; i < nbb_cells.length; ++i) {\n",
       "                    if (nbb_cells[i].input_prompt_number == nbb_cell_id) {\n",
       "                        if (nbb_cells[i].get_text() == nbb_unformatted_code) {\n",
       "                             nbb_cells[i].set_text(nbb_formatted_code);\n",
       "                        }\n",
       "                        break;\n",
       "                    }\n",
       "                }\n",
       "            }, 500);\n",
       "            "
      ],
      "text/plain": [
       "<IPython.core.display.Javascript object>"
      ]
     },
     "metadata": {},
     "output_type": "display_data"
    }
   ],
   "source": [
    "y_pred = model.predict(X_test)\n",
    "\n",
    "confusion_mat = confusion_matrix(y_test, y_pred)\n",
    "confusion_df = pd.DataFrame(\n",
    "    confusion_mat,\n",
    "    columns=[\"Predicted 0\", \"Predicted 1\"],\n",
    "    index=[\"Actual 0\", \"Actual 1\"],\n",
    ")\n",
    "\n",
    "display(confusion_df)\n",
    "\n",
    "print(classification_report(y_test, y_pred))"
   ]
  }
 ],
 "metadata": {
  "colab": {
   "collapsed_sections": [],
   "name": "Copy of Heart Disease Assignment MVP.ipynb",
   "provenance": [
    {
     "file_id": "1jI1h2SUeS5enF2pRvU0MEWGc0_MUF7WE",
     "timestamp": 1585512468204
    }
   ]
  },
  "kernelspec": {
   "display_name": "Python 3",
   "language": "python",
   "name": "python3"
  },
  "language_info": {
   "codemirror_mode": {
    "name": "ipython",
    "version": 3
   },
   "file_extension": ".py",
   "mimetype": "text/x-python",
   "name": "python",
   "nbconvert_exporter": "python",
   "pygments_lexer": "ipython3",
   "version": "3.7.4"
  },
  "widgets": {
   "application/vnd.jupyter.widget-state+json": {
    "1809f5c8e7b14805b914f557b5d5a3b2": {
     "model_module": "@jupyter-widgets/base",
     "model_name": "LayoutModel",
     "state": {
      "_model_module": "@jupyter-widgets/base",
      "_model_module_version": "1.2.0",
      "_model_name": "LayoutModel",
      "_view_count": null,
      "_view_module": "@jupyter-widgets/base",
      "_view_module_version": "1.2.0",
      "_view_name": "LayoutView",
      "align_content": null,
      "align_items": null,
      "align_self": null,
      "border": null,
      "bottom": null,
      "display": null,
      "flex": null,
      "flex_flow": null,
      "grid_area": null,
      "grid_auto_columns": null,
      "grid_auto_flow": null,
      "grid_auto_rows": null,
      "grid_column": null,
      "grid_gap": null,
      "grid_row": null,
      "grid_template_areas": null,
      "grid_template_columns": null,
      "grid_template_rows": null,
      "height": null,
      "justify_content": null,
      "justify_items": null,
      "left": null,
      "margin": null,
      "max_height": null,
      "max_width": null,
      "min_height": null,
      "min_width": null,
      "object_fit": null,
      "object_position": null,
      "order": null,
      "overflow": null,
      "overflow_x": null,
      "overflow_y": null,
      "padding": null,
      "right": null,
      "top": null,
      "visibility": null,
      "width": null
     }
    },
    "3dabf24b90044a79bfe235ea695a25f2": {
     "model_module": "@jupyter-widgets/output",
     "model_name": "OutputModel",
     "state": {
      "_dom_classes": [],
      "_model_module": "@jupyter-widgets/output",
      "_model_module_version": "1.0.0",
      "_model_name": "OutputModel",
      "_view_count": null,
      "_view_module": "@jupyter-widgets/output",
      "_view_module_version": "1.0.0",
      "_view_name": "OutputView",
      "layout": "IPY_MODEL_bb9cf0bcee584b34ad60ff2862929b6d",
      "msg_id": "",
      "outputs": []
     }
    },
    "4d4e4587a85248a284a095dddd841555": {
     "model_module": "@jupyter-widgets/controls",
     "model_name": "ButtonStyleModel",
     "state": {
      "_model_module": "@jupyter-widgets/controls",
      "_model_module_version": "1.5.0",
      "_model_name": "ButtonStyleModel",
      "_view_count": null,
      "_view_module": "@jupyter-widgets/base",
      "_view_module_version": "1.2.0",
      "_view_name": "StyleView",
      "button_color": null,
      "font_weight": ""
     }
    },
    "5179326df3e243b89102f2baeb9e3706": {
     "model_module": "@jupyter-widgets/controls",
     "model_name": "ButtonModel",
     "state": {
      "_dom_classes": [],
      "_model_module": "@jupyter-widgets/controls",
      "_model_module_version": "1.5.0",
      "_model_name": "ButtonModel",
      "_view_count": null,
      "_view_module": "@jupyter-widgets/controls",
      "_view_module_version": "1.5.0",
      "_view_name": "ButtonView",
      "button_style": "",
      "description": "Click for Results!",
      "disabled": false,
      "icon": "",
      "layout": "IPY_MODEL_1809f5c8e7b14805b914f557b5d5a3b2",
      "style": "IPY_MODEL_4d4e4587a85248a284a095dddd841555",
      "tooltip": ""
     }
    }
   }
  }
 },
 "nbformat": 4,
 "nbformat_minor": 1
}
